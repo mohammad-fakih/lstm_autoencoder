{
 "cells": [
  {
   "cell_type": "code",
   "execution_count": 1,
   "id": "9eb44afc",
   "metadata": {},
   "outputs": [],
   "source": [
    "import numpy as np\n",
    "import pandas as pd\n",
    "\n",
    "from matplotlib import pyplot as plt\n",
    "from sklearn.preprocessing import StandardScaler\n",
    "import seaborn as sns\n",
    "from keras.models import Sequential\n",
    "from keras.layers import LSTM\n",
    "from keras.layers import Dense\n",
    "from keras.layers import RepeatVector\n",
    "from keras.layers import TimeDistributed"
   ]
  },
  {
   "cell_type": "code",
   "execution_count": 8,
   "id": "96cf7817",
   "metadata": {},
   "outputs": [],
   "source": [
    "from sklearn.model_selection import train_test_split\n",
    "from sklearn.preprocessing import MinMaxScaler, StandardScaler\n",
    "\n",
    "def generate_datasets_for_training(data, window_size,scale=True, scaler_type=StandardScaler,test_size=0.2, val_size=0.1):\n",
    "  _l = len(data) \n",
    "  data = scaler_type().fit_transform(data)\n",
    "  Xs = []\n",
    "  Ys = []\n",
    "  for i in range(0, _l, window_size):\n",
    "    # because this is an autoencoder - our Ys are the same as our Xs. No need to pull the next sequence of values\n",
    "    Xs.append(data[i:i+window_size])\n",
    "    Ys.append(data[i:i+window_size])\n",
    "  ####I will remove the last elment of the arrays because it might not be composed of 5 timestampss\n",
    "  Xs, Ys= Xs[:-1], Ys[:-1] \n",
    "  tr_x, ts_x, tr_y, ts_y = [np.array(x) for x in train_test_split(Xs, Ys, test_size=test_size, random_state=42)]\n",
    "# Further split training set into training and validation sets\n",
    "  X_train, X_val, y_train, y_val = [np.array(x) for x in train_test_split(tr_x, tr_y, test_size=val_size, random_state=42)]\n",
    "  assert tr_x.shape[2] == ts_x.shape[2] == (data.shape[1] if (type(data) == np.ndarray) else len(data))\n",
    "  return  (tr_x.shape[2], X_train, X_val, ts_x, y_train, y_val, ts_y)\n"
   ]
  },
  {
   "cell_type": "code",
   "execution_count": 9,
   "id": "8f6a73c2",
   "metadata": {},
   "outputs": [],
   "source": [
    "import pandas as pd\n",
    "import numpy as np\n",
    "\n",
    "_es = pd.read_csv(\"D://Msc_Data_Science_1//Semester 2//Data science lab 1//LSTM data//SWaT_Dataset_Normal_v0 2.csv\")\n",
    "label_mapping = {'Normal': 0, 'Attack': 1}\n",
    "_es['Normal/Attack'] = _es['Normal/Attack'].map(label_mapping)\n",
    "_es.set_index('Timestamp', inplace=True)\n",
    "_es= _es.iloc[:, :-1]\n",
    "feats, X_train, X_val, X_test, y_train, y_val, y_test = generate_datasets_for_training(_es, 5)\n",
    "     \n",
    "###########################################\n",
    "\n"
   ]
  },
  {
   "cell_type": "code",
   "execution_count": 22,
   "id": "795c9de4",
   "metadata": {},
   "outputs": [
    {
     "data": {
      "text/plain": [
       "496800"
      ]
     },
     "execution_count": 22,
     "metadata": {},
     "output_type": "execute_result"
    }
   ],
   "source": [
    "data = pd.read_csv(\"D://Msc_Data_Science_1//Semester 2//Data science lab 1//LSTM data//SWaT_Dataset_Normal_v0 2.csv\")\n",
    "len(data)"
   ]
  },
  {
   "cell_type": "code",
   "execution_count": 24,
   "id": "a42c1939",
   "metadata": {},
   "outputs": [
    {
     "data": {
      "text/plain": [
       "Timestamp         25/12/2015 7:00:00 PM\n",
       "FIT101                          2.67335\n",
       "LIT101                         497.0577\n",
       "MV101                                 2\n",
       "P101                                  2\n",
       "P102                                  1\n",
       "AIT201                         266.8546\n",
       "AIT202                         8.374647\n",
       "AIT203                         327.9159\n",
       "FIT201                         2.448211\n",
       "MV201                                 2\n",
       "P201                                  1\n",
       "P202                                  1\n",
       "P203                                  2\n",
       "P204                                  1\n",
       "P205                                  2\n",
       "P206                                  1\n",
       "DPIT301                        19.86043\n",
       "FIT301                         2.212984\n",
       "LIT301                         831.3974\n",
       "MV301                                 1\n",
       "MV302                                 2\n",
       "MV303                                 1\n",
       "MV304                                 1\n",
       "P301                                  1\n",
       "P302                                  2\n",
       "AIT401                         148.8032\n",
       "AIT402                         164.0605\n",
       "FIT401                         1.718643\n",
       "LIT401                         879.8898\n",
       "P401                                  1\n",
       "P402                                  2\n",
       "P403                                  1\n",
       "P404                                  1\n",
       "UV401                                 2\n",
       "AIT501                          7.91483\n",
       "AIT502                         151.0638\n",
       "AIT503                         266.5342\n",
       "AIT504                         12.22763\n",
       "FIT501                         1.730838\n",
       "FIT502                         1.281542\n",
       "FIT503                         0.735141\n",
       "FIT504                         0.306761\n",
       "P501                                  2\n",
       "P502                                  1\n",
       "PIT501                         249.8558\n",
       "PIT502                         1.137347\n",
       "PIT503                         189.1342\n",
       "FIT601                              0.0\n",
       "P601                                  1\n",
       "P602                                  1\n",
       "P603                                  1\n",
       "Normal/Attack                    Normal\n",
       "Name: 270000, dtype: object"
      ]
     },
     "execution_count": 24,
     "metadata": {},
     "output_type": "execute_result"
    }
   ],
   "source": [
    "data.iloc[270000]"
   ]
  },
  {
   "cell_type": "code",
   "execution_count": 26,
   "id": "6cf09de0",
   "metadata": {},
   "outputs": [],
   "source": []
  },
  {
   "cell_type": "code",
   "execution_count": 10,
   "id": "7e9331c1",
   "metadata": {},
   "outputs": [
    {
     "data": {
      "text/plain": [
       "51"
      ]
     },
     "execution_count": 10,
     "metadata": {},
     "output_type": "execute_result"
    }
   ],
   "source": [
    "feats"
   ]
  },
  {
   "cell_type": "code",
   "execution_count": 11,
   "id": "5f866237",
   "metadata": {},
   "outputs": [
    {
     "data": {
      "text/plain": [
       "(71538, 5, 51)"
      ]
     },
     "execution_count": 11,
     "metadata": {},
     "output_type": "execute_result"
    }
   ],
   "source": [
    "X_train.shape"
   ]
  },
  {
   "cell_type": "code",
   "execution_count": 12,
   "id": "fe2a0162",
   "metadata": {},
   "outputs": [
    {
     "data": {
      "text/plain": [
       "(7949, 5, 51)"
      ]
     },
     "execution_count": 12,
     "metadata": {},
     "output_type": "execute_result"
    }
   ],
   "source": [
    "X_val.shape"
   ]
  },
  {
   "cell_type": "code",
   "execution_count": 13,
   "id": "5f7ebdf2",
   "metadata": {},
   "outputs": [
    {
     "data": {
      "text/plain": [
       "(19872, 5, 51)"
      ]
     },
     "execution_count": 13,
     "metadata": {},
     "output_type": "execute_result"
    }
   ],
   "source": [
    "X_test.shape"
   ]
  },
  {
   "cell_type": "code",
   "execution_count": 9,
   "id": "4c4fa5df",
   "metadata": {},
   "outputs": [],
   "source": [
    "\n",
    "#############################################3\n",
    "epochs = 100\n",
    "batch_size = 32\n",
    "window_length = 5\n",
    "from keras import metrics\n",
    "import keras\n",
    "import tensorflow as tf\n",
    "import os\n",
    "\n",
    "early_stop = tf.keras.callbacks.EarlyStopping(\n",
    "    monitor='val_loss', min_delta=1e-2, patience=5, verbose=0, mode='auto',\n",
    "    baseline=None, restore_best_weights=True)\n",
    "\n"
   ]
  },
  {
   "cell_type": "code",
   "execution_count": 10,
   "id": "38f89ed0",
   "metadata": {},
   "outputs": [
    {
     "data": {
      "text/html": [
       "<pre style=\"white-space:pre;overflow-x:auto;line-height:normal;font-family:Menlo,'DejaVu Sans Mono',consolas,'Courier New',monospace\"><span style=\"font-weight: bold\">Model: \"sequential_2\"</span>\n",
       "</pre>\n"
      ],
      "text/plain": [
       "\u001b[1mModel: \"sequential_2\"\u001b[0m\n"
      ]
     },
     "metadata": {},
     "output_type": "display_data"
    },
    {
     "data": {
      "text/html": [
       "<pre style=\"white-space:pre;overflow-x:auto;line-height:normal;font-family:Menlo,'DejaVu Sans Mono',consolas,'Courier New',monospace\">┏━━━━━━━━━━━━━━━━━━━━━━━━━━━━━━━━━━━━━━┳━━━━━━━━━━━━━━━━━━━━━━━━━━━━━┳━━━━━━━━━━━━━━━━━┓\n",
       "┃<span style=\"font-weight: bold\"> Layer (type)                         </span>┃<span style=\"font-weight: bold\"> Output Shape                </span>┃<span style=\"font-weight: bold\">         Param # </span>┃\n",
       "┡━━━━━━━━━━━━━━━━━━━━━━━━━━━━━━━━━━━━━━╇━━━━━━━━━━━━━━━━━━━━━━━━━━━━━╇━━━━━━━━━━━━━━━━━┩\n",
       "│ encoder_1 (<span style=\"color: #0087ff; text-decoration-color: #0087ff\">LSTM</span>)                     │ (<span style=\"color: #00d7ff; text-decoration-color: #00d7ff\">None</span>, <span style=\"color: #00af00; text-decoration-color: #00af00\">5</span>, <span style=\"color: #00af00; text-decoration-color: #00af00\">128</span>)              │          <span style=\"color: #00af00; text-decoration-color: #00af00\">92,160</span> │\n",
       "├──────────────────────────────────────┼─────────────────────────────┼─────────────────┤\n",
       "│ encoder_2 (<span style=\"color: #0087ff; text-decoration-color: #0087ff\">LSTM</span>)                     │ (<span style=\"color: #00d7ff; text-decoration-color: #00d7ff\">None</span>, <span style=\"color: #00af00; text-decoration-color: #00af00\">5</span>, <span style=\"color: #00af00; text-decoration-color: #00af00\">64</span>)               │          <span style=\"color: #00af00; text-decoration-color: #00af00\">49,408</span> │\n",
       "├──────────────────────────────────────┼─────────────────────────────┼─────────────────┤\n",
       "│ encoder_3 (<span style=\"color: #0087ff; text-decoration-color: #0087ff\">LSTM</span>)                     │ (<span style=\"color: #00d7ff; text-decoration-color: #00d7ff\">None</span>, <span style=\"color: #00af00; text-decoration-color: #00af00\">32</span>)                  │          <span style=\"color: #00af00; text-decoration-color: #00af00\">12,416</span> │\n",
       "├──────────────────────────────────────┼─────────────────────────────┼─────────────────┤\n",
       "│ encoder_decoder_bridge               │ (<span style=\"color: #00d7ff; text-decoration-color: #00d7ff\">None</span>, <span style=\"color: #00af00; text-decoration-color: #00af00\">5</span>, <span style=\"color: #00af00; text-decoration-color: #00af00\">32</span>)               │               <span style=\"color: #00af00; text-decoration-color: #00af00\">0</span> │\n",
       "│ (<span style=\"color: #0087ff; text-decoration-color: #0087ff\">RepeatVector</span>)                       │                             │                 │\n",
       "├──────────────────────────────────────┼─────────────────────────────┼─────────────────┤\n",
       "│ decoder_1 (<span style=\"color: #0087ff; text-decoration-color: #0087ff\">LSTM</span>)                     │ (<span style=\"color: #00d7ff; text-decoration-color: #00d7ff\">None</span>, <span style=\"color: #00af00; text-decoration-color: #00af00\">5</span>, <span style=\"color: #00af00; text-decoration-color: #00af00\">32</span>)               │           <span style=\"color: #00af00; text-decoration-color: #00af00\">8,320</span> │\n",
       "├──────────────────────────────────────┼─────────────────────────────┼─────────────────┤\n",
       "│ decoder_2 (<span style=\"color: #0087ff; text-decoration-color: #0087ff\">LSTM</span>)                     │ (<span style=\"color: #00d7ff; text-decoration-color: #00d7ff\">None</span>, <span style=\"color: #00af00; text-decoration-color: #00af00\">5</span>, <span style=\"color: #00af00; text-decoration-color: #00af00\">64</span>)               │          <span style=\"color: #00af00; text-decoration-color: #00af00\">24,832</span> │\n",
       "├──────────────────────────────────────┼─────────────────────────────┼─────────────────┤\n",
       "│ decoder_3 (<span style=\"color: #0087ff; text-decoration-color: #0087ff\">LSTM</span>)                     │ (<span style=\"color: #00d7ff; text-decoration-color: #00d7ff\">None</span>, <span style=\"color: #00af00; text-decoration-color: #00af00\">5</span>, <span style=\"color: #00af00; text-decoration-color: #00af00\">128</span>)              │          <span style=\"color: #00af00; text-decoration-color: #00af00\">98,816</span> │\n",
       "├──────────────────────────────────────┼─────────────────────────────┼─────────────────┤\n",
       "│ time_distributed_1 (<span style=\"color: #0087ff; text-decoration-color: #0087ff\">TimeDistributed</span>) │ (<span style=\"color: #00d7ff; text-decoration-color: #00d7ff\">None</span>, <span style=\"color: #00af00; text-decoration-color: #00af00\">5</span>, <span style=\"color: #00af00; text-decoration-color: #00af00\">51</span>)               │           <span style=\"color: #00af00; text-decoration-color: #00af00\">6,579</span> │\n",
       "└──────────────────────────────────────┴─────────────────────────────┴─────────────────┘\n",
       "</pre>\n"
      ],
      "text/plain": [
       "┏━━━━━━━━━━━━━━━━━━━━━━━━━━━━━━━━━━━━━━┳━━━━━━━━━━━━━━━━━━━━━━━━━━━━━┳━━━━━━━━━━━━━━━━━┓\n",
       "┃\u001b[1m \u001b[0m\u001b[1mLayer (type)                        \u001b[0m\u001b[1m \u001b[0m┃\u001b[1m \u001b[0m\u001b[1mOutput Shape               \u001b[0m\u001b[1m \u001b[0m┃\u001b[1m \u001b[0m\u001b[1m        Param #\u001b[0m\u001b[1m \u001b[0m┃\n",
       "┡━━━━━━━━━━━━━━━━━━━━━━━━━━━━━━━━━━━━━━╇━━━━━━━━━━━━━━━━━━━━━━━━━━━━━╇━━━━━━━━━━━━━━━━━┩\n",
       "│ encoder_1 (\u001b[38;5;33mLSTM\u001b[0m)                     │ (\u001b[38;5;45mNone\u001b[0m, \u001b[38;5;34m5\u001b[0m, \u001b[38;5;34m128\u001b[0m)              │          \u001b[38;5;34m92,160\u001b[0m │\n",
       "├──────────────────────────────────────┼─────────────────────────────┼─────────────────┤\n",
       "│ encoder_2 (\u001b[38;5;33mLSTM\u001b[0m)                     │ (\u001b[38;5;45mNone\u001b[0m, \u001b[38;5;34m5\u001b[0m, \u001b[38;5;34m64\u001b[0m)               │          \u001b[38;5;34m49,408\u001b[0m │\n",
       "├──────────────────────────────────────┼─────────────────────────────┼─────────────────┤\n",
       "│ encoder_3 (\u001b[38;5;33mLSTM\u001b[0m)                     │ (\u001b[38;5;45mNone\u001b[0m, \u001b[38;5;34m32\u001b[0m)                  │          \u001b[38;5;34m12,416\u001b[0m │\n",
       "├──────────────────────────────────────┼─────────────────────────────┼─────────────────┤\n",
       "│ encoder_decoder_bridge               │ (\u001b[38;5;45mNone\u001b[0m, \u001b[38;5;34m5\u001b[0m, \u001b[38;5;34m32\u001b[0m)               │               \u001b[38;5;34m0\u001b[0m │\n",
       "│ (\u001b[38;5;33mRepeatVector\u001b[0m)                       │                             │                 │\n",
       "├──────────────────────────────────────┼─────────────────────────────┼─────────────────┤\n",
       "│ decoder_1 (\u001b[38;5;33mLSTM\u001b[0m)                     │ (\u001b[38;5;45mNone\u001b[0m, \u001b[38;5;34m5\u001b[0m, \u001b[38;5;34m32\u001b[0m)               │           \u001b[38;5;34m8,320\u001b[0m │\n",
       "├──────────────────────────────────────┼─────────────────────────────┼─────────────────┤\n",
       "│ decoder_2 (\u001b[38;5;33mLSTM\u001b[0m)                     │ (\u001b[38;5;45mNone\u001b[0m, \u001b[38;5;34m5\u001b[0m, \u001b[38;5;34m64\u001b[0m)               │          \u001b[38;5;34m24,832\u001b[0m │\n",
       "├──────────────────────────────────────┼─────────────────────────────┼─────────────────┤\n",
       "│ decoder_3 (\u001b[38;5;33mLSTM\u001b[0m)                     │ (\u001b[38;5;45mNone\u001b[0m, \u001b[38;5;34m5\u001b[0m, \u001b[38;5;34m128\u001b[0m)              │          \u001b[38;5;34m98,816\u001b[0m │\n",
       "├──────────────────────────────────────┼─────────────────────────────┼─────────────────┤\n",
       "│ time_distributed_1 (\u001b[38;5;33mTimeDistributed\u001b[0m) │ (\u001b[38;5;45mNone\u001b[0m, \u001b[38;5;34m5\u001b[0m, \u001b[38;5;34m51\u001b[0m)               │           \u001b[38;5;34m6,579\u001b[0m │\n",
       "└──────────────────────────────────────┴─────────────────────────────┴─────────────────┘\n"
      ]
     },
     "metadata": {},
     "output_type": "display_data"
    },
    {
     "data": {
      "text/html": [
       "<pre style=\"white-space:pre;overflow-x:auto;line-height:normal;font-family:Menlo,'DejaVu Sans Mono',consolas,'Courier New',monospace\"><span style=\"font-weight: bold\"> Total params: </span><span style=\"color: #00af00; text-decoration-color: #00af00\">292,531</span> (1.12 MB)\n",
       "</pre>\n"
      ],
      "text/plain": [
       "\u001b[1m Total params: \u001b[0m\u001b[38;5;34m292,531\u001b[0m (1.12 MB)\n"
      ]
     },
     "metadata": {},
     "output_type": "display_data"
    },
    {
     "data": {
      "text/html": [
       "<pre style=\"white-space:pre;overflow-x:auto;line-height:normal;font-family:Menlo,'DejaVu Sans Mono',consolas,'Courier New',monospace\"><span style=\"font-weight: bold\"> Trainable params: </span><span style=\"color: #00af00; text-decoration-color: #00af00\">292,531</span> (1.12 MB)\n",
       "</pre>\n"
      ],
      "text/plain": [
       "\u001b[1m Trainable params: \u001b[0m\u001b[38;5;34m292,531\u001b[0m (1.12 MB)\n"
      ]
     },
     "metadata": {},
     "output_type": "display_data"
    },
    {
     "data": {
      "text/html": [
       "<pre style=\"white-space:pre;overflow-x:auto;line-height:normal;font-family:Menlo,'DejaVu Sans Mono',consolas,'Courier New',monospace\"><span style=\"font-weight: bold\"> Non-trainable params: </span><span style=\"color: #00af00; text-decoration-color: #00af00\">0</span> (0.00 B)\n",
       "</pre>\n"
      ],
      "text/plain": [
       "\u001b[1m Non-trainable params: \u001b[0m\u001b[38;5;34m0\u001b[0m (0.00 B)\n"
      ]
     },
     "metadata": {},
     "output_type": "display_data"
    },
    {
     "name": "stdout",
     "output_type": "stream",
     "text": [
      "None\n"
     ]
    }
   ],
   "source": [
    "model = keras.Sequential()\n",
    "model.add(keras.layers.LSTM(128, kernel_initializer='he_uniform', input_shape=(5, feats), return_sequences=True, name='encoder_1'))\n",
    "model.add(keras.layers.LSTM(64, kernel_initializer='he_uniform', return_sequences=True, name='encoder_2'))\n",
    "model.add(keras.layers.LSTM(32, kernel_initializer='he_uniform', return_sequences=False, name='encoder_3'))\n",
    "model.add(keras.layers.RepeatVector(window_length, name='encoder_decoder_bridge'))\n",
    "model.add(keras.layers.LSTM(32, kernel_initializer='he_uniform', return_sequences=True, name='decoder_1'))\n",
    "model.add(keras.layers.LSTM(64, kernel_initializer='he_uniform', return_sequences=True, name='decoder_2'))\n",
    "model.add(keras.layers.LSTM(128, kernel_initializer='he_uniform', return_sequences=True, name='decoder_3'))\n",
    "model.add(keras.layers.TimeDistributed(keras.layers.Dense(feats)))\n",
    "model.compile(loss=\"mse\",optimizer='adam')\n",
    "model.build()\n",
    "print(model.summary())\n"
   ]
  },
  {
   "cell_type": "code",
   "execution_count": 11,
   "id": "19f465de",
   "metadata": {},
   "outputs": [
    {
     "name": "stdout",
     "output_type": "stream",
     "text": [
      "Epoch 1/150\n",
      "\u001b[1m2329/2329\u001b[0m \u001b[32m━━━━━━━━━━━━━━━━━━━━\u001b[0m\u001b[37m\u001b[0m \u001b[1m74s\u001b[0m 29ms/step - loss: 0.1687 - val_loss: 0.0314\n",
      "Epoch 2/150\n",
      "\u001b[1m2329/2329\u001b[0m \u001b[32m━━━━━━━━━━━━━━━━━━━━\u001b[0m\u001b[37m\u001b[0m \u001b[1m68s\u001b[0m 29ms/step - loss: 0.0320 - val_loss: 0.0217\n",
      "Epoch 3/150\n",
      "\u001b[1m2329/2329\u001b[0m \u001b[32m━━━━━━━━━━━━━━━━━━━━\u001b[0m\u001b[37m\u001b[0m \u001b[1m80s\u001b[0m 34ms/step - loss: 0.0210 - val_loss: 0.0177\n",
      "Epoch 4/150\n",
      "\u001b[1m2329/2329\u001b[0m \u001b[32m━━━━━━━━━━━━━━━━━━━━\u001b[0m\u001b[37m\u001b[0m \u001b[1m62s\u001b[0m 27ms/step - loss: 0.0164 - val_loss: 0.0156\n",
      "Epoch 5/150\n",
      "\u001b[1m2329/2329\u001b[0m \u001b[32m━━━━━━━━━━━━━━━━━━━━\u001b[0m\u001b[37m\u001b[0m \u001b[1m65s\u001b[0m 28ms/step - loss: 0.0155 - val_loss: 0.0138\n",
      "Epoch 6/150\n",
      "\u001b[1m2329/2329\u001b[0m \u001b[32m━━━━━━━━━━━━━━━━━━━━\u001b[0m\u001b[37m\u001b[0m \u001b[1m67s\u001b[0m 29ms/step - loss: 0.0138 - val_loss: 0.0139\n",
      "Epoch 7/150\n",
      "\u001b[1m2329/2329\u001b[0m \u001b[32m━━━━━━━━━━━━━━━━━━━━\u001b[0m\u001b[37m\u001b[0m \u001b[1m72s\u001b[0m 31ms/step - loss: 0.0123 - val_loss: 0.0115\n",
      "Epoch 8/150\n",
      "\u001b[1m2329/2329\u001b[0m \u001b[32m━━━━━━━━━━━━━━━━━━━━\u001b[0m\u001b[37m\u001b[0m \u001b[1m69s\u001b[0m 30ms/step - loss: 0.0100 - val_loss: 0.0142\n"
     ]
    },
    {
     "data": {
      "text/plain": [
       "<keras.src.callbacks.history.History at 0x19a9b95ad90>"
      ]
     },
     "execution_count": 11,
     "metadata": {},
     "output_type": "execute_result"
    }
   ],
   "source": [
    "model.fit(x=X, y=Y, validation_data=(XX, YY), epochs=150, batch_size=batch_size, shuffle=True, callbacks=[early_stop])"
   ]
  },
  {
   "cell_type": "code",
   "execution_count": 18,
   "id": "70d0e4d6",
   "metadata": {},
   "outputs": [
    {
     "name": "stdout",
     "output_type": "stream",
     "text": [
      "Shape of the sample array: (1, 5, 51)\n",
      "[[[7.40002947e-01 4.71261196e-01 5.42486356e-01 4.58657955e-01\n",
      "   9.19688513e-03 9.58442500e-01 3.52158724e-01 3.62994705e-01\n",
      "   8.27006041e-01 4.90361077e-01 6.36857329e-03 8.43300788e-01\n",
      "   3.98424160e-03 8.44589499e-01 6.18538475e-01 4.65803404e-01\n",
      "   6.68433071e-03 8.05969930e-01 7.88430325e-02 3.62216558e-01\n",
      "   6.05872509e-01 1.43281307e-01 9.81042258e-01 5.76100202e-02\n",
      "   2.51579963e-01 9.26465630e-01 7.82403369e-01 1.44428470e-01\n",
      "   3.64492156e-01 1.23027004e-01 2.84996238e-01 5.80893593e-01\n",
      "   5.75227769e-01 3.66781474e-01 9.12796175e-01 2.70026842e-01\n",
      "   3.19665732e-01 2.61262187e-01 7.95785505e-01 1.39653016e-01\n",
      "   8.73874130e-01 3.98378336e-01 7.71678176e-01 2.55679524e-01\n",
      "   4.54731019e-01 8.38394073e-01 4.22528980e-01 3.18231843e-01\n",
      "   2.74158959e-01 2.66118930e-01 8.87698802e-02]\n",
      "  [1.05620529e-01 9.63436978e-01 4.46379577e-01 3.02466808e-01\n",
      "   3.43611777e-01 3.85485138e-01 9.37284308e-01 2.19553853e-01\n",
      "   6.68832170e-02 2.19878964e-01 7.26884643e-01 5.95153026e-01\n",
      "   6.31552074e-01 3.63259709e-01 9.45719264e-01 6.82632266e-01\n",
      "   4.92985376e-02 5.16649899e-01 6.11347883e-01 3.19566614e-01\n",
      "   8.79620165e-01 7.85151648e-01 3.85214466e-01 1.18317497e-02\n",
      "   2.74442628e-01 3.09192247e-01 9.66761380e-01 2.12825080e-01\n",
      "   6.96149509e-01 9.90772610e-01 3.77357771e-01 2.39892178e-02\n",
      "   2.06878176e-01 7.25343458e-01 8.54176676e-01 4.92211535e-01\n",
      "   9.53053558e-01 9.18927216e-01 7.73967503e-01 2.39799316e-01\n",
      "   5.56373418e-01 5.64026951e-01 5.83996360e-01 7.86535810e-01\n",
      "   2.91407283e-01 6.00582657e-01 4.34697516e-01 8.99454281e-01\n",
      "   2.23247641e-01 4.80197676e-01 8.26482024e-01]\n",
      "  [1.63923435e-01 5.30931135e-01 2.50564212e-01 3.66708337e-02\n",
      "   2.22020208e-01 6.22933402e-01 7.92688052e-01 5.00213067e-01\n",
      "   9.07884727e-01 7.14930817e-01 5.82660254e-01 3.62926309e-01\n",
      "   2.65158195e-01 2.22094962e-01 3.15081144e-01 5.33915471e-01\n",
      "   4.50494709e-01 5.98495398e-01 1.52342392e-01 9.96064057e-01\n",
      "   2.52864840e-01 3.42738438e-01 6.88465664e-01 8.60378658e-01\n",
      "   8.13665763e-01 1.97171374e-01 7.99505858e-01 8.73494843e-01\n",
      "   8.43728304e-01 9.90374894e-01 7.04225563e-01 4.40041150e-02\n",
      "   9.06323994e-01 2.07234339e-01 5.80831110e-01 8.77637851e-01\n",
      "   7.62229945e-02 3.91839953e-02 4.84177848e-02 6.07694508e-01\n",
      "   6.49033642e-01 7.40370924e-02 5.10945690e-01 2.71677616e-01\n",
      "   4.40462113e-01 1.16294059e-01 3.92024795e-01 5.92117560e-01\n",
      "   4.06377403e-01 5.72836834e-01 8.17506685e-02]\n",
      "  [3.26312839e-01 8.28340568e-01 4.56980965e-01 5.05282956e-01\n",
      "   7.74217581e-01 3.47209997e-01 8.89744805e-01 5.43201630e-01\n",
      "   3.78310734e-01 1.35597179e-01 8.53797473e-01 6.94715507e-01\n",
      "   5.86669515e-03 4.98168617e-01 4.98748924e-01 5.83187640e-01\n",
      "   2.97846640e-02 7.22074089e-02 9.75467716e-01 7.53579626e-01\n",
      "   4.99511869e-01 9.70245714e-01 9.27753791e-01 6.11990318e-02\n",
      "   2.61464899e-01 8.83680609e-01 8.04611627e-01 4.02065478e-01\n",
      "   2.12842451e-02 6.89703405e-01 7.06118856e-03 6.19950436e-01\n",
      "   7.44939103e-01 9.27851623e-01 5.00371224e-04 9.76538619e-01\n",
      "   1.73651027e-01 8.32392558e-01 8.96180531e-01 1.16353051e-01\n",
      "   3.24997669e-01 7.27837454e-01 9.37661113e-01 9.90347024e-01\n",
      "   7.60049601e-01 6.68253892e-01 3.67911506e-01 8.99313956e-01\n",
      "   6.66557923e-01 7.69862116e-01 7.76024148e-01]\n",
      "  [4.98926088e-01 1.68899118e-01 4.85134807e-02 6.78158283e-01\n",
      "   8.24502439e-01 8.50500447e-02 4.37342707e-01 7.72814850e-02\n",
      "   9.84238854e-01 4.44127424e-01 7.49925900e-02 9.07342812e-01\n",
      "   9.93378719e-01 3.67372821e-01 6.29777842e-02 1.11052254e-01\n",
      "   2.31950925e-01 9.00442512e-01 4.37480231e-01 9.00013364e-01\n",
      "   9.06270327e-02 1.00572586e-01 3.81208839e-01 3.48463553e-02\n",
      "   4.70002180e-01 9.49343617e-01 1.43436905e-01 3.68866396e-01\n",
      "   7.53430287e-01 6.64941303e-01 2.96113261e-02 7.84287634e-01\n",
      "   1.63757696e-01 3.95505967e-01 6.39847069e-01 9.76150957e-01\n",
      "   2.92900190e-01 7.96416760e-01 6.20823722e-01 3.38378391e-01\n",
      "   4.85103602e-01 7.19590445e-01 8.48454751e-01 4.61454660e-01\n",
      "   3.13589400e-01 9.50401578e-01 1.13569848e-01 8.11134062e-01\n",
      "   9.61888999e-01 4.06067973e-01 2.42803515e-01]]]\n"
     ]
    }
   ],
   "source": [
    "# Generate a random array with shape (batch_size, 5, 51)\n",
    "batch_size = 32  # Choose your desired batch size\n",
    "sample_array = np.random.rand(1,5,51)\n",
    "\n",
    "# Verify the shape of the sample array\n",
    "print(\"Shape of the sample array:\", sample_array.shape)\n",
    "print(sample_array)"
   ]
  },
  {
   "cell_type": "code",
   "execution_count": 21,
   "id": "7076ab53",
   "metadata": {},
   "outputs": [
    {
     "name": "stdout",
     "output_type": "stream",
     "text": [
      "\u001b[1m1/1\u001b[0m \u001b[32m━━━━━━━━━━━━━━━━━━━━\u001b[0m\u001b[37m\u001b[0m \u001b[1m0s\u001b[0m 21ms/step\n",
      "(1, 5, 51)\n",
      "[[[ 5.01812220e-01  6.18858218e-01  5.17554939e-01  5.55689335e-01\n",
      "    1.60137517e-03  7.39231169e-01 -2.42655218e-01  4.20142598e-02\n",
      "    5.53358436e-01  5.68528175e-01 -2.19309400e-03  9.88913162e-05\n",
      "    5.17872751e-01  1.91994710e-03  3.03287089e-01  3.06957227e-04\n",
      "    4.08505112e-01  4.61206585e-01  6.40494168e-01  3.48163769e-02\n",
      "    5.45962453e-01  9.16993245e-03 -5.84961295e-01 -2.29918540e-01\n",
      "    4.64035392e-01 -3.47844034e-01  5.92070282e-01  1.29177526e-01\n",
      "    1.23176801e+00 -1.99114671e-03  2.77873367e-01  5.93039091e-04\n",
      "    3.30133655e-04  2.32568979e-01  4.55213398e-01  8.44263017e-01\n",
      "    1.10111463e+00 -2.59274840e-01  9.11563784e-02  7.44834542e-04\n",
      "    3.73562098e-01  3.32083881e-01  2.44828910e-01  2.58438569e-03\n",
      "    5.14870703e-01  1.87393689e+00  5.74380696e-01 -1.20871648e-01\n",
      "    5.01748174e-04 -1.52614355e-01 -1.62249920e-03]\n",
      "  [ 5.64859927e-01  4.40891355e-01  6.58796906e-01  6.81884289e-01\n",
      "    1.10357488e-03  9.45000529e-01 -2.03251392e-01 -1.05720118e-01\n",
      "    6.49260938e-01  6.17558300e-01 -2.50967010e-03 -4.62567026e-04\n",
      "    6.03266120e-01  1.85403402e-03  4.69518155e-01  1.45048252e-03\n",
      "    3.89924824e-01  4.42284852e-01  6.36943102e-01  2.13193685e-01\n",
      "    5.27306080e-01  1.10850260e-01 -5.58914363e-01 -1.95961326e-01\n",
      "    4.19424117e-01 -2.40237266e-03  4.79489982e-01  1.32674053e-01\n",
      "    1.46096325e+00  4.54933150e-04  2.93394983e-01  1.20050972e-03\n",
      "    4.18324664e-04  3.04127783e-01  4.02904958e-01  8.63092422e-01\n",
      "    1.06059098e+00 -2.32437953e-01  8.10409933e-02 -3.61666083e-04\n",
      "    4.03512597e-01  3.45634997e-01  2.49970406e-01  1.12475769e-03\n",
      "    5.98803043e-01  1.81145775e+00  6.59851193e-01 -1.39788613e-01\n",
      "    4.28901985e-04 -1.53525263e-01 -1.58426235e-03]\n",
      "  [ 5.64908266e-01  2.34539628e-01  6.80414557e-01  6.62443757e-01\n",
      "    2.84562586e-04  9.79636908e-01 -6.65778369e-02 -2.20326662e-01\n",
      "    6.12204194e-01  5.78421772e-01 -2.42495374e-03 -8.01283284e-04\n",
      "    5.59822083e-01  1.97431212e-03  5.50983906e-01  1.94462715e-03\n",
      "    3.51956993e-01  3.98379505e-01  5.99875927e-01  2.39005283e-01\n",
      "    5.26593626e-01  1.51144579e-01 -6.27965152e-01 -1.92605972e-01\n",
      "    4.19722676e-01  1.91447482e-01  3.95162940e-01  1.12976655e-01\n",
      "    1.60138857e+00  1.89127633e-03  2.56764382e-01  1.29939895e-03\n",
      "    3.88477987e-04  3.14849079e-01  4.81150001e-01  8.44039738e-01\n",
      "    8.10449362e-01 -2.42119446e-01  6.34914488e-02  8.69870186e-04\n",
      "    3.84010494e-01  3.44738126e-01  2.32395142e-01  1.43803307e-04\n",
      "    5.83274543e-01  1.75956082e+00  6.61033213e-01 -1.02455825e-01\n",
      "   -2.22406816e-05 -1.34406477e-01 -1.62065751e-03]\n",
      "  [ 5.55859089e-01  1.48915887e-01  7.03477144e-01  6.79031849e-01\n",
      "    6.04754314e-05  1.03232026e+00  1.13815218e-02 -2.64725447e-01\n",
      "    6.10593438e-01  5.87369800e-01 -2.22935993e-03 -8.76410166e-04\n",
      "    5.58191121e-01  1.67268771e-03  6.26050889e-01  1.79559458e-03\n",
      "    3.38701934e-01  3.92557979e-01  5.46881437e-01  2.63928980e-01\n",
      "    5.05657077e-01  1.78919479e-01 -7.10661829e-01 -1.86720729e-01\n",
      "    4.07641828e-01  2.65900075e-01  3.31278682e-01  1.03077307e-01\n",
      "    1.67845094e+00  2.56479112e-03  2.31535316e-01  1.19345705e-03\n",
      "    2.55419058e-04  3.16304207e-01  5.67545295e-01  8.01576972e-01\n",
      "    6.19691074e-01 -2.85121202e-01  6.10527098e-02  6.65101409e-03\n",
      "    3.85619938e-01  3.66800249e-01  2.30413675e-01 -2.70869437e-04\n",
      "    5.81507444e-01  1.72536504e+00  6.58138990e-01 -1.05567902e-01\n",
      "   -7.93726649e-05 -9.73643363e-02 -1.42169837e-03]\n",
      "  [ 5.41048467e-01  1.24001175e-01  7.07194746e-01  6.90399587e-01\n",
      "    3.75283416e-05  1.08085179e+00  7.77999461e-02 -2.80587763e-01\n",
      "    6.05497360e-01  5.97811580e-01 -2.12917733e-03 -9.69527697e-04\n",
      "    5.56632936e-01  1.45014457e-03  6.80658102e-01  1.47834606e-03\n",
      "    3.34742755e-01  3.90232205e-01  4.87004578e-01  2.72438288e-01\n",
      "    4.88478124e-01  1.98836029e-01 -7.95111835e-01 -2.00484037e-01\n",
      "    3.97084773e-01  3.02839518e-01  2.87897229e-01  9.32798237e-02\n",
      "    1.70171678e+00  2.77667539e-03  2.11817950e-01  1.05649605e-03\n",
      "    1.77352806e-04  3.12630892e-01  6.54977202e-01  7.66129851e-01\n",
      "    4.65580761e-01 -3.22854757e-01  5.45997918e-02  2.41491199e-03\n",
      "    3.88203204e-01  3.86695921e-01  2.30816633e-01 -4.97290981e-04\n",
      "    5.86428463e-01  1.70783186e+00  6.60280585e-01 -1.04558334e-01\n",
      "   -6.58605713e-05 -6.38504326e-02 -1.19631807e-03]]]\n"
     ]
    }
   ],
   "source": [
    "d=model.predict(sample_array)\n",
    "print(d.shape)\n",
    "print(d)"
   ]
  },
  {
   "cell_type": "code",
   "execution_count": 50,
   "id": "31b767da",
   "metadata": {},
   "outputs": [],
   "source": [
    "test= [[1,2,1,2,1,3,4,2,4,5,3,1,5,6,4,1,2,1,2,1,3,4,2,4,5,3,1,5,6,4,1,2,1,1,3,4,2,4,5,3,1,5,6,4,8,5,6,7,3, 7,12] ,\n",
    "      [1,2,1,2,1,3,4,2,4,5,3,1,5,6,4,1,2,1,2,1,3,4,2,4,5,3,1,5,6,4,1,2,2,1,3,4,2,4,5,3,1,5,6,4,8,5,6,7,3, 7,12] ,\n",
    "      [1,2,1,2,1,3,4,2,4,5,3,1,5,6,4,1,2,1,2,1,3,4,2,4,5,3,1,5,6,4,1,2,1,2,1,3,4,2,4,5,3,1,5,6,4,8,5,6,7,3, 7] ,\n",
    "      \n",
    "      [1,2,1,2,1,3,4,2,4,5,3,1,5,6,4,1,2,1,2,1,3,4,2,4,5,3,1,5,6,4,1,2,2,1,3,4,2,4,5,3,1,5,6,4,8,5,6,7,3, 7,12] ,\n",
    "      [1,2,1,2,1,3,4,2,4,5,3,1,5,6,4,1,2,1,2,1,3,4,2,4,5,3,1,5,6,4,1,2,2,1,3,4,2,4,5,3,1,5,6,4,8,5,6,7,3, 7,12] ]\n"
   ]
  },
  {
   "cell_type": "code",
   "execution_count": 51,
   "id": "1d14e640",
   "metadata": {},
   "outputs": [],
   "source": [
    "test_array = np.array(test)"
   ]
  },
  {
   "cell_type": "code",
   "execution_count": 54,
   "id": "cefe880e",
   "metadata": {},
   "outputs": [
    {
     "data": {
      "text/plain": [
       "(1, 5, 51)"
      ]
     },
     "execution_count": 54,
     "metadata": {},
     "output_type": "execute_result"
    }
   ],
   "source": [
    "test_array.shape\n",
    "data_expanded = np.expand_dims(test_array, axis=0)\n",
    "data_expanded.shape"
   ]
  },
  {
   "cell_type": "code",
   "execution_count": 55,
   "id": "3d22a533",
   "metadata": {},
   "outputs": [
    {
     "name": "stdout",
     "output_type": "stream",
     "text": [
      "\u001b[1m1/1\u001b[0m \u001b[32m━━━━━━━━━━━━━━━━━━━━\u001b[0m\u001b[37m\u001b[0m \u001b[1m1s\u001b[0m 734ms/step\n"
     ]
    },
    {
     "data": {
      "text/plain": [
       "array([[[ 2.61710528e-02, -6.66082427e-02,  2.25232001e-02,\n",
       "          1.15047982e-02,  1.21446075e-02, -3.85111980e-02,\n",
       "         -6.60798177e-02, -3.23678516e-02,  3.18275839e-02,\n",
       "         -3.69940000e-03,  2.45263893e-02, -7.75588909e-04,\n",
       "          2.64301132e-02,  1.87668353e-02,  2.64555104e-02,\n",
       "         -1.47117600e-02,  2.28571650e-02,  1.74109694e-02,\n",
       "         -2.97057685e-02,  1.15896929e-02,  1.07418727e-02,\n",
       "          2.68982872e-02,  6.33516768e-03,  1.59446355e-02,\n",
       "         -1.72880553e-02, -5.04912948e-03,  5.98437153e-04,\n",
       "         -2.04612967e-03, -3.49553935e-02,  6.79616211e-03,\n",
       "          3.97330523e-03,  1.74091309e-02, -2.42401194e-03,\n",
       "         -1.34063582e-03,  5.65528683e-02, -2.54130848e-02,\n",
       "          6.19611703e-04, -4.89998199e-02, -2.93232966e-04,\n",
       "          9.43645835e-03,  9.33301449e-03, -1.86381489e-02,\n",
       "         -5.06844558e-03, -1.47938784e-02,  4.45916429e-02,\n",
       "         -2.11836006e-02,  6.53540269e-02,  3.71704902e-03,\n",
       "          8.89211893e-03, -3.01842168e-02, -1.46857984e-02],\n",
       "        [ 2.24393494e-02, -1.58565313e-01,  4.75885980e-02,\n",
       "          2.23329328e-02,  1.12931859e-02, -1.70356408e-01,\n",
       "         -2.11181879e-01, -3.49926725e-02,  1.34137407e-01,\n",
       "         -2.21904889e-02,  4.92337383e-02, -7.24163931e-03,\n",
       "          4.99619991e-02,  4.23616879e-02,  4.16851975e-02,\n",
       "         -1.77761707e-02,  1.27867192e-01,  1.27774864e-01,\n",
       "         -1.19891360e-01,  2.37897448e-02,  2.57217754e-02,\n",
       "          5.17994761e-02,  1.03731491e-02,  1.72918588e-02,\n",
       "         -5.12832664e-02, -1.27522415e-03, -6.41912818e-02,\n",
       "         -1.96901523e-02, -1.62172258e-01, -8.42298381e-04,\n",
       "          2.14926042e-02,  2.41920128e-02,  6.92912191e-03,\n",
       "         -7.02762452e-04,  1.05073646e-01, -1.21415071e-01,\n",
       "          2.66378690e-02, -7.67420083e-02,  2.62051728e-03,\n",
       "         -8.58954526e-03, -1.45081226e-02, -3.51375490e-02,\n",
       "         -1.49788437e-02, -2.30947770e-02,  9.31476504e-02,\n",
       "         -1.57176405e-02,  1.55588135e-01,  3.02906707e-02,\n",
       "         -6.64177071e-03, -7.17833787e-02, -3.10563855e-02],\n",
       "        [ 2.70926561e-02, -2.66908705e-01,  8.72619152e-02,\n",
       "          3.89118232e-02,  8.76461994e-03, -3.65148425e-01,\n",
       "         -4.10149246e-01, -1.29628321e-02,  3.16546261e-01,\n",
       "         -4.00558114e-02,  7.51534700e-02, -1.68814790e-02,\n",
       "          8.17211941e-02,  6.49994910e-02,  4.83446866e-02,\n",
       "         -3.23363282e-02,  2.82196403e-01,  3.01387727e-01,\n",
       "         -2.64995396e-01,  3.30756567e-02,  4.46723104e-02,\n",
       "          8.74892026e-02,  1.51744531e-03,  1.67750400e-02,\n",
       "         -9.73036811e-02,  1.03697255e-02, -1.89584911e-01,\n",
       "         -4.13714573e-02, -3.72316092e-01, -2.21616682e-03,\n",
       "          5.23050874e-02,  3.75854932e-02,  3.38127874e-02,\n",
       "          8.03089608e-03,  1.63704619e-01, -2.83533096e-01,\n",
       "          5.35403043e-02, -9.90006179e-02, -2.86432612e-03,\n",
       "         -3.20119634e-02, -5.14057726e-02, -5.37899062e-02,\n",
       "         -1.98553707e-02, -2.34685931e-02,  1.53113112e-01,\n",
       "          3.90992500e-03,  2.62968749e-01,  4.71443422e-02,\n",
       "         -3.71642634e-02, -1.25483274e-01, -4.65556458e-02],\n",
       "        [ 5.04549220e-02, -3.54829133e-01,  1.30597353e-01,\n",
       "          5.71723394e-02,  2.18462665e-03, -5.85157871e-01,\n",
       "         -6.21399581e-01,  3.86218503e-02,  5.56833506e-01,\n",
       "         -4.94683459e-02,  9.52033922e-02, -2.93996837e-02,\n",
       "          1.12100042e-01,  8.66205320e-02,  4.23677303e-02,\n",
       "         -5.55294678e-02,  4.52933729e-01,  5.06125689e-01,\n",
       "         -4.41299051e-01,  3.60905416e-02,  6.06159754e-02,\n",
       "          1.27695888e-01, -2.33829450e-02,  1.29941404e-02,\n",
       "         -1.42372087e-01,  3.02473586e-02, -3.57673258e-01,\n",
       "         -5.90117425e-02, -6.31074190e-01,  4.22248431e-03,\n",
       "          9.50974301e-02,  5.83257861e-02,  7.74835274e-02,\n",
       "          2.22367868e-02,  2.28484467e-01, -4.86344129e-01,\n",
       "          7.10316077e-02, -1.16339952e-01, -1.50257852e-02,\n",
       "         -5.17668501e-02, -9.46316496e-02, -7.56301731e-02,\n",
       "         -1.15993964e-02, -1.59546025e-02,  2.09901914e-01,\n",
       "          3.47519219e-02,  3.57653826e-01,  4.03333493e-02,\n",
       "         -7.36365989e-02, -1.83103889e-01, -5.91536984e-02],\n",
       "        [ 8.83019790e-02, -4.03338760e-01,  1.63753822e-01,\n",
       "          6.96119592e-02, -1.12301307e-02, -7.91175485e-01,\n",
       "         -8.11932564e-01,  1.11442640e-01,  8.15142512e-01,\n",
       "         -5.07523678e-02,  1.05302796e-01, -4.20119464e-02,\n",
       "          1.30452141e-01,  1.08278237e-01,  2.64566429e-02,\n",
       "         -8.09379220e-02,  6.08853757e-01,  7.10819066e-01,\n",
       "         -6.17429137e-01,  3.76868211e-02,  7.00774491e-02,\n",
       "          1.68094546e-01, -6.31325990e-02,  3.81643698e-03,\n",
       "         -1.72572419e-01,  5.24993986e-02, -5.38440704e-01,\n",
       "         -7.12154210e-02, -8.92450154e-01,  1.46326637e-02,\n",
       "          1.41591430e-01,  8.29560012e-02,  1.27539545e-01,\n",
       "          3.81618924e-02,  2.91125059e-01, -6.91123366e-01,\n",
       "          7.79844373e-02, -1.35139838e-01, -2.92316414e-02,\n",
       "         -6.22849166e-02, -1.32117033e-01, -1.00726046e-01,\n",
       "          1.42761879e-02, -5.99692296e-03,  2.52168119e-01,\n",
       "          6.62860870e-02,  4.21350688e-01,  9.82586946e-03,\n",
       "         -1.05133697e-01, -2.36947805e-01, -7.27281347e-02]]],\n",
       "      dtype=float32)"
      ]
     },
     "execution_count": 55,
     "metadata": {},
     "output_type": "execute_result"
    }
   ],
   "source": [
    "model.predict(data_expanded)"
   ]
  },
  {
   "cell_type": "code",
   "execution_count": 16,
   "id": "d125656f",
   "metadata": {},
   "outputs": [],
   "source": [
    "sample2=[[[2.67335,  497.0577,   2,  2, 1,266.8546, 8.374647,327.9159,2.448211,2,1,1,2,1,2,1,19.86043,2.212984,831.3974,\n",
    "1,2,1,1,1, 2, 148.8032,  164.0605,  1.718643,\n",
    "879.8898, 1,2,  1, 1, 2,7.91483, 151.0638,266.5342,\n",
    "12.22763, 1.730838,   1.281542,  0.735141,\n",
    "0.306761, 2, 1, 249.8558,1.137347, 189.1342,   0.0, 1,   1,1],\n",
    "         [2.67335,  497.0577,   2,  2, 1,266.8546, 8.374647,327.9159,2.448211,2,1,1,2,1,2,1,19.86043,2.212984,831.3974,\n",
    "1,2,1,1,1, 2, 148.8032,  164.0605,  1.718643,\n",
    "879.8898, 1,2,  1, 1, 2,7.91483, 151.0638,266.5342,\n",
    "12.22763, 1.730838,   1.281542,  0.735141,\n",
    "0.306761, 2, 1, 249.8558,1.137347, 189.1342,   0.0, 1,   1,1],\n",
    "         [2.67335,  497.0577,   2,  2, 1,266.8546, 8.374647,327.9159,2.448211,2,1,1,2,1,2,1,19.86043,2.212984,831.3974,\n",
    "1,2,1,1,1, 2, 148.8032,  164.0605,  1.718643,\n",
    "879.8898, 1,2,  1, 1, 2,7.91483, 151.0638,266.5342,\n",
    "12.22763, 1.730838,   1.281542,  0.735141,\n",
    "0.306761, 2, 1, 249.8558,1.137347, 189.1342,   0.0, 1,   1,1],\n",
    "         [2.67335,  497.0577,   2,  2, 1,266.8546, 8.374647,327.9159,2.448211,2,1,1,2,1,2,1,19.86043,2.212984,831.3974,\n",
    "1,2,1,1,1, 2, 148.8032,  164.0605,  1.718643,\n",
    "879.8898, 1,2,  1, 1, 2,7.91483, 151.0638,266.5342,\n",
    "12.22763, 1.730838,   1.281542,  0.735141,\n",
    "0.306761, 2, 1, 249.8558,1.137347, 189.1342,   0.0, 1,   1,1],\n",
    "         [2.67335,  497.0577,   2,  2, 1,266.8546, 8.374647,327.9159,2.448211,2,1,1,2,1,2,1,19.86043,2.212984,831.3974,\n",
    "1,2,1,1,1, 2, 148.8032,  164.0605,  1.718643,\n",
    "879.8898, 1,2,  1, 1, 2,7.91483, 151.0638,266.5342,\n",
    "12.22763, 1.730838,   1.281542,  0.735141,\n",
    "0.306761, 2, 1, 249.8558,1.137347, 189.1342,   0.0, 1,   1,1]]]"
   ]
  },
  {
   "cell_type": "code",
   "execution_count": 17,
   "id": "4d565d3c",
   "metadata": {},
   "outputs": [
    {
     "name": "stdout",
     "output_type": "stream",
     "text": [
      "(1, 5, 51)\n"
     ]
    }
   ],
   "source": [
    "# Convert the list to a NumPy array\n",
    "numpy_array = np.array(sample2)\n",
    "print(numpy_array.shape)"
   ]
  },
  {
   "cell_type": "code",
   "execution_count": 18,
   "id": "56fa341b",
   "metadata": {},
   "outputs": [],
   "source": [
    "reshaped_array = numpy_array.reshape(-1, numpy_array.shape[-1])"
   ]
  },
  {
   "cell_type": "code",
   "execution_count": 19,
   "id": "2cc9864a",
   "metadata": {},
   "outputs": [
    {
     "data": {
      "text/plain": [
       "(5, 51)"
      ]
     },
     "execution_count": 19,
     "metadata": {},
     "output_type": "execute_result"
    }
   ],
   "source": [
    "reshaped_array.shape"
   ]
  },
  {
   "cell_type": "code",
   "execution_count": 20,
   "id": "8146900e",
   "metadata": {},
   "outputs": [
    {
     "name": "stdout",
     "output_type": "stream",
     "text": [
      "[[0. 0. 0. 0. 0. 0. 0. 0. 0. 0. 0. 0. 0. 0. 0. 0. 0. 0. 0. 0. 0. 0. 0. 0.\n",
      "  0. 0. 0. 0. 0. 0. 0. 0. 0. 0. 0. 0. 0. 0. 0. 0. 0. 0. 0. 0. 0. 0. 0. 0.\n",
      "  0. 0. 0.]\n",
      " [0. 0. 0. 0. 0. 0. 0. 0. 0. 0. 0. 0. 0. 0. 0. 0. 0. 0. 0. 0. 0. 0. 0. 0.\n",
      "  0. 0. 0. 0. 0. 0. 0. 0. 0. 0. 0. 0. 0. 0. 0. 0. 0. 0. 0. 0. 0. 0. 0. 0.\n",
      "  0. 0. 0.]\n",
      " [0. 0. 0. 0. 0. 0. 0. 0. 0. 0. 0. 0. 0. 0. 0. 0. 0. 0. 0. 0. 0. 0. 0. 0.\n",
      "  0. 0. 0. 0. 0. 0. 0. 0. 0. 0. 0. 0. 0. 0. 0. 0. 0. 0. 0. 0. 0. 0. 0. 0.\n",
      "  0. 0. 0.]\n",
      " [0. 0. 0. 0. 0. 0. 0. 0. 0. 0. 0. 0. 0. 0. 0. 0. 0. 0. 0. 0. 0. 0. 0. 0.\n",
      "  0. 0. 0. 0. 0. 0. 0. 0. 0. 0. 0. 0. 0. 0. 0. 0. 0. 0. 0. 0. 0. 0. 0. 0.\n",
      "  0. 0. 0.]\n",
      " [0. 0. 0. 0. 0. 0. 0. 0. 0. 0. 0. 0. 0. 0. 0. 0. 0. 0. 0. 0. 0. 0. 0. 0.\n",
      "  0. 0. 0. 0. 0. 0. 0. 0. 0. 0. 0. 0. 0. 0. 0. 0. 0. 0. 0. 0. 0. 0. 0. 0.\n",
      "  0. 0. 0.]]\n"
     ]
    }
   ],
   "source": [
    "# Assuming 'my_array' is your NumPy array\n",
    "# Create an instance of StandardScaler\n",
    "scaler = MinMaxScaler()\n",
    "\n",
    "# Fit the scaler to your array and transform it\n",
    "scaled_array = scaler.fit_transform(reshaped_array)\n",
    "\n",
    "print(scaled_array)"
   ]
  },
  {
   "cell_type": "code",
   "execution_count": 30,
   "id": "1c4d8776",
   "metadata": {},
   "outputs": [
    {
     "name": "stdout",
     "output_type": "stream",
     "text": [
      "\u001b[1m1/1\u001b[0m \u001b[32m━━━━━━━━━━━━━━━━━━━━\u001b[0m\u001b[37m\u001b[0m \u001b[1m0s\u001b[0m 98ms/step\n"
     ]
    }
   ],
   "source": [
    "po=model.predict(numpy_array)"
   ]
  },
  {
   "cell_type": "code",
   "execution_count": 31,
   "id": "d6111faa",
   "metadata": {},
   "outputs": [
    {
     "name": "stdout",
     "output_type": "stream",
     "text": [
      "(1, 5, 51)\n"
     ]
    }
   ],
   "source": [
    "print(po.shape)"
   ]
  },
  {
   "cell_type": "code",
   "execution_count": 32,
   "id": "cb2ae585",
   "metadata": {},
   "outputs": [
    {
     "name": "stdout",
     "output_type": "stream",
     "text": [
      "[[[ 5.80025911e-01 -1.31786481e-01  6.32527828e-01 -8.48169506e-01\n",
      "    1.40473922e-03  1.00953233e+00  3.23054701e-01  5.15986323e-01\n",
      "   -6.30138278e-01 -8.29321742e-01 -3.33083025e-03 -3.70727968e-03\n",
      "   -7.53111780e-01 -1.97930058e-04 -7.19684482e-01 -1.21687865e-03\n",
      "   -1.11547792e+00 -1.19772470e+00  8.72098863e-01 -2.00394750e+00\n",
      "   -1.03112292e+00 -1.77838695e+00 -3.41156363e-01  2.38540620e-02\n",
      "   -1.20966363e+00  3.64906341e-02  6.22070506e-02  1.90921620e-01\n",
      "    6.13724053e-01  2.78452272e-03  1.82518691e-01 -1.18841068e-04\n",
      "    1.27809611e-03  1.60824209e-01  1.37597382e-01  1.51733398e-01\n",
      "    1.34998834e+00 -1.91633895e-01  1.42861262e-01  7.33620077e-02\n",
      "    2.65648663e-01  2.26574898e-01  2.50190586e-01  1.47133856e-03\n",
      "    2.32898846e-01 -2.65764445e-01  3.77034485e-01 -7.61344433e-02\n",
      "    7.12372363e-04 -3.03098708e-01  8.08349694e-04]\n",
      "  [ 5.19628346e-01 -7.08365202e-01  7.04937518e-01 -1.24953616e+00\n",
      "    8.25570151e-03  1.47097254e+00  6.68610781e-02 -8.25826824e-03\n",
      "   -9.78493452e-01 -1.13914549e+00 -3.32545373e-03 -3.11349053e-03\n",
      "   -1.07282794e+00  2.06492189e-03 -9.42862332e-01 -5.36139822e-03\n",
      "   -1.27601027e+00 -1.30662370e+00  1.01596332e+00 -1.77336419e+00\n",
      "   -1.43270314e+00 -1.85589826e+00 -6.23031914e-01 -2.03720033e-01\n",
      "   -1.57657981e+00  5.44731379e-01 -2.49699876e-01 -1.74833030e-01\n",
      "    8.00086081e-01 -6.92959875e-04 -1.20713770e-01  2.08999333e-03\n",
      "   -3.54427146e-03 -2.30645210e-01  1.39765114e-01  2.21510172e-01\n",
      "    1.21348095e+00 -1.54018804e-01 -2.50638425e-01 -3.42481077e-01\n",
      "    7.05877990e-02  1.55768096e-02  7.66282976e-02  7.66097847e-03\n",
      "    1.45162433e-01 -1.84815675e-01  2.46059656e-01  8.74735415e-03\n",
      "    2.55667977e-03 -6.24299198e-02 -3.65515915e-03]\n",
      "  [ 4.53880310e-01 -8.04870248e-01  6.64332390e-01 -1.49602044e+00\n",
      "    8.24910216e-03  1.33008325e+00 -1.18865401e-01 -2.15058744e-01\n",
      "   -1.27028728e+00 -1.49595082e+00 -3.19526787e-03 -3.25596565e-03\n",
      "   -1.35483086e+00  2.19001179e-03 -1.38273895e+00 -5.16889663e-03\n",
      "   -1.34599364e+00 -1.34966838e+00  9.50642765e-01 -5.07775247e-01\n",
      "   -1.56502533e+00 -1.84482038e+00 -7.04344690e-01 -1.89504683e-01\n",
      "   -1.69549048e+00  9.68673170e-01 -1.93570241e-01 -1.05542108e-01\n",
      "    8.65749836e-01 -2.78845895e-04  4.43594083e-02  1.81825249e-03\n",
      "   -3.83764412e-03 -1.25247806e-01 -6.56281412e-02  3.45063388e-01\n",
      "    8.42213273e-01 -1.13221213e-01 -2.19322875e-01 -3.66477966e-01\n",
      "    9.85393226e-02 -2.48814523e-02  8.35622996e-02  7.39648845e-03\n",
      "    2.57287145e-01 -1.04723826e-01  3.44103187e-01 -1.59303471e-01\n",
      "    2.48300284e-03  1.48738980e-01 -2.91391555e-03]\n",
      "  [ 4.60836202e-01 -7.73350120e-01  6.72852695e-01 -1.66846454e+00\n",
      "    6.12860080e-03  1.03635788e+00 -2.42444068e-01 -3.44407707e-01\n",
      "   -1.51356077e+00 -1.76963007e+00 -1.88472681e-03 -2.98328465e-03\n",
      "   -1.57718050e+00  6.29880757e-04 -1.69740069e+00 -2.38611433e-03\n",
      "   -1.32151592e+00 -1.27688468e+00  7.67190158e-01  5.48070431e-01\n",
      "   -1.59609962e+00 -1.55138516e+00 -9.70489502e-01 -1.64616525e-01\n",
      "   -1.74062836e+00  1.14914274e+00 -5.49514592e-03 -3.71422172e-02\n",
      "    6.54841661e-01  1.75201334e-03  1.57164931e-01  1.46847439e-03\n",
      "   -2.53786473e-03 -3.57509553e-02 -3.30516428e-01  4.56167817e-01\n",
      "    4.84878123e-01 -2.63793170e-02 -1.37981966e-01 -3.17116916e-01\n",
      "    9.96420383e-02 -3.29199880e-02  7.02186525e-02  5.43651404e-03\n",
      "    2.47229800e-01 -1.27265036e-01  3.43607992e-01 -2.19018713e-01\n",
      "    1.35439099e-03  3.89947742e-01 -1.03985262e-03]\n",
      "  [ 4.13424373e-01 -6.87106371e-01  6.22951567e-01 -1.88828647e+00\n",
      "    4.68629692e-03  8.02961111e-01 -2.80439019e-01 -5.17921209e-01\n",
      "   -1.79799616e+00 -1.98357403e+00  4.48926585e-05 -1.13108475e-03\n",
      "   -1.83879042e+00 -1.02846744e-03 -1.91228652e+00 -3.43285501e-05\n",
      "   -1.27142298e+00 -1.14973104e+00  6.68038487e-01  1.18771017e+00\n",
      "   -1.57615721e+00 -1.20247781e+00 -1.34714639e+00 -3.34402353e-01\n",
      "   -1.67661083e+00  1.18245292e+00  1.48672476e-01  5.36890626e-02\n",
      "    4.48758364e-01  3.70767340e-03  2.52349675e-01  1.48592831e-03\n",
      "   -2.09767092e-03  4.86448854e-02 -4.38758314e-01  4.66601044e-01\n",
      "    3.16667020e-01 -4.92530316e-02 -2.98368931e-03 -1.70123994e-01\n",
      "    1.76061362e-01  7.62551725e-02  1.21163100e-01  4.47226735e-03\n",
      "    2.10936233e-01 -1.16676167e-01  3.63039970e-01 -4.83796000e-04\n",
      "   -2.89465534e-04  6.70920491e-01  2.12540734e-04]]]\n"
     ]
    }
   ],
   "source": [
    "print(po)"
   ]
  }
 ],
 "metadata": {
  "kernelspec": {
   "display_name": "tensorkeras",
   "language": "python",
   "name": "tensorkeras"
  },
  "language_info": {
   "codemirror_mode": {
    "name": "ipython",
    "version": 3
   },
   "file_extension": ".py",
   "mimetype": "text/x-python",
   "name": "python",
   "nbconvert_exporter": "python",
   "pygments_lexer": "ipython3",
   "version": "3.11.8"
  }
 },
 "nbformat": 4,
 "nbformat_minor": 5
}
