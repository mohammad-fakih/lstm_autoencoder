{
 "cells": [
  {
   "cell_type": "markdown",
   "id": "a61f885b-08fd-47b4-afde-50617b628a37",
   "metadata": {},
   "source": [
    "<h1>LSTM AutoEncoder For Anomaly Detection</h1>"
   ]
  },
  {
   "cell_type": "markdown",
   "id": "611f80e3-c75a-4806-a6e8-b834419c1a10",
   "metadata": {},
   "source": [
    "<h4>The Intuition:</h4>"
   ]
  },
  {
   "cell_type": "markdown",
   "id": "1803610f-06cf-46ba-931d-46ccc4f8d256",
   "metadata": {},
   "source": [
    "in this notebook we are going to create and encoder - decoder lstm architecture model that is going to reconstruct some given vectors \n",
    "once the reconstruction error falls behing a certain threhold, we'll identify the vector as an anomaly "
   ]
  },
  {
   "cell_type": "code",
   "execution_count": 1,
   "id": "e3d1fb33-5457-46af-9f3c-ad79dd0096fd",
   "metadata": {},
   "outputs": [],
   "source": [
    "import numpy as np\n",
    "import pandas as pd\n",
    "\n",
    "from matplotlib import pyplot as plt\n",
    "from sklearn.model_selection import train_test_split\n",
    "from sklearn.preprocessing import MinMaxScaler, StandardScaler\n",
    "import seaborn as sns\n",
    "from keras.models import Sequential\n",
    "from keras import metrics\n",
    "import keras\n",
    "import tensorflow as tf\n",
    "import os\n",
    "#from scikeras.wrappers import KerasRegressor\n",
    "#from sklearn.model_selection import GridSearchCV\n",
    "from keras.layers import LSTM, RepeatVector, TimeDistributed, Dense, Dropout"
   ]
  },
  {
   "cell_type": "code",
   "execution_count": 81,
   "id": "e23d9d21-10a0-4387-9a61-94960a28831a",
   "metadata": {},
   "outputs": [],
   "source": [
    "def generate_datasets_for_training(data, window_size, test_size=0.1):\n",
    "    _l = len(data)\n",
    "    Xs = []\n",
    "    Ys = []\n",
    "    for i in range(0, _l-window_size):\n",
    "        Xs.append(data[i:i+window_size].values) \n",
    "        # Convert list to numpy array\n",
    "    Xs = np.array(Xs)\n",
    "    \n",
    "    # Calculate the split index\n",
    "    split_idx = int((1 - test_size) * len(Xs))\n",
    "    \n",
    "    # Split the data manually without shuffling\n",
    "    tr_x, ts_x = Xs[:split_idx], Xs[split_idx:]\n",
    "    \n",
    "    return (tr_x.shape[2], tr_x, ts_x)"
   ]
  },
  {
   "cell_type": "code",
   "execution_count": 2,
   "id": "0938d09a-6ebe-43e0-bef1-0d16d1b9081a",
   "metadata": {},
   "outputs": [],
   "source": [
    "def generate_datasets_for_training2(data, window_size):\n",
    "    _l = len(data)\n",
    "    Xs = []\n",
    "    # while (_l % window_size != 0):\n",
    "    #     _l -= 1\n",
    "    # data= data.iloc[:(len(data)-_l)]\n",
    "    for i in range(0, _l-window_size):\n",
    "        Xs.append(data[i:i+window_size].values) \n",
    "        # Convert list to numpy array\n",
    "    Xs = np.array(Xs)\n",
    "    \n",
    "    return (Xs.shape[2], Xs)"
   ]
  },
  {
   "cell_type": "markdown",
   "id": "4ab82399-5cdb-49b4-974c-87c3caa982a6",
   "metadata": {},
   "source": [
    "<h3>This function will normalize my data (taking into account the actuators and sensors difference)</h3>"
   ]
  },
  {
   "cell_type": "code",
   "execution_count": 3,
   "id": "0a88a447-590d-4219-9abe-06c7233eb7fe",
   "metadata": {},
   "outputs": [],
   "source": [
    "def dataEngineering(filepath, scaler):\n",
    "    #let me now split the data into sensors and actuators and the normalize the sensors\n",
    "    actuators_NAMES=['MV101', 'P101','P102', 'MV201', 'P201','P202', 'P203', 'P204', 'P205', 'P206', 'MV301','MV302','MV303','MV304','P301', 'P302', 'P401','P402','P403', 'P404', 'UV401', 'P501', 'P502','P601', 'P602','P603']\n",
    "    DF = pd.read_csv(filepath)\n",
    "    DF.set_index('Timestamp', inplace=True)\n",
    "    #REMOVING THE LAST COLUMN\n",
    "    DF= DF.iloc[:, :-1]\n",
    "    sensors= DF.drop(actuators_NAMES, axis=1)\n",
    "    actuators= DF[actuators_NAMES]\n",
    "    scaler.fit(sensors)\n",
    "    # Transform the data using the scaler\n",
    "    normalized_sensors = scaler.transform(sensors)\n",
    "    # Convert the normalized data back to a DataFrame\n",
    "    normalized_sensors = pd.DataFrame(normalized_sensors, columns=sensors.columns)\n",
    "    actuators_dummies=actuators\n",
    "    for actuator in actuators_NAMES:\n",
    "      actuators_dummies[actuator]= pd.Categorical(actuators_dummies[actuator], categories=[0, 1, 2])\n",
    "      actuators_dummies= pd.get_dummies(actuators_dummies, columns=[actuator],dtype=int)\n",
    "    normalized_sensors.index=actuators_dummies.index\n",
    "    allData= pd.concat([normalized_sensors, actuators_dummies], axis=1)\n",
    "    return allData"
   ]
  },
  {
   "cell_type": "code",
   "execution_count": 4,
   "id": "40357cc6-04cf-4fdc-bfdc-2f3a5b8aa19f",
   "metadata": {},
   "outputs": [
    {
     "name": "stderr",
     "output_type": "stream",
     "text": [
      "C:\\Users\\mfaki\\AppData\\Local\\Temp\\ipykernel_26884\\4273617739.py:17: SettingWithCopyWarning: \n",
      "A value is trying to be set on a copy of a slice from a DataFrame.\n",
      "Try using .loc[row_indexer,col_indexer] = value instead\n",
      "\n",
      "See the caveats in the documentation: https://pandas.pydata.org/pandas-docs/stable/user_guide/indexing.html#returning-a-view-versus-a-copy\n",
      "  actuators_dummies[actuator]= pd.Categorical(actuators_dummies[actuator], categories=[0, 1, 2])\n"
     ]
    }
   ],
   "source": [
    "filepath = \"D://Msc_Data_Science_1//Semester 2//Data science lab 1//LSTM data//SWaT_Dataset_Normal_v0 2.csv\"\n",
    "scaler = MinMaxScaler()\n",
    "data = dataEngineering(filepath, scaler)"
   ]
  },
  {
   "cell_type": "code",
   "execution_count": 50,
   "id": "c753eddb-3695-49da-9fb8-99a3ee7d941c",
   "metadata": {},
   "outputs": [
    {
     "data": {
      "text/html": [
       "<div>\n",
       "<style scoped>\n",
       "    .dataframe tbody tr th:only-of-type {\n",
       "        vertical-align: middle;\n",
       "    }\n",
       "\n",
       "    .dataframe tbody tr th {\n",
       "        vertical-align: top;\n",
       "    }\n",
       "\n",
       "    .dataframe thead th {\n",
       "        text-align: right;\n",
       "    }\n",
       "</style>\n",
       "<table border=\"1\" class=\"dataframe\">\n",
       "  <thead>\n",
       "    <tr style=\"text-align: right;\">\n",
       "      <th></th>\n",
       "      <th>FIT101</th>\n",
       "      <th>LIT101</th>\n",
       "      <th>AIT201</th>\n",
       "      <th>AIT202</th>\n",
       "      <th>AIT203</th>\n",
       "      <th>FIT201</th>\n",
       "      <th>DPIT301</th>\n",
       "      <th>FIT301</th>\n",
       "      <th>LIT301</th>\n",
       "      <th>AIT401</th>\n",
       "      <th>...</th>\n",
       "      <th>P502_2</th>\n",
       "      <th>P601_0</th>\n",
       "      <th>P601_1</th>\n",
       "      <th>P601_2</th>\n",
       "      <th>P602_0</th>\n",
       "      <th>P602_1</th>\n",
       "      <th>P602_2</th>\n",
       "      <th>P603_0</th>\n",
       "      <th>P603_1</th>\n",
       "      <th>P603_2</th>\n",
       "    </tr>\n",
       "    <tr>\n",
       "      <th>Timestamp</th>\n",
       "      <th></th>\n",
       "      <th></th>\n",
       "      <th></th>\n",
       "      <th></th>\n",
       "      <th></th>\n",
       "      <th></th>\n",
       "      <th></th>\n",
       "      <th></th>\n",
       "      <th></th>\n",
       "      <th></th>\n",
       "      <th></th>\n",
       "      <th></th>\n",
       "      <th></th>\n",
       "      <th></th>\n",
       "      <th></th>\n",
       "      <th></th>\n",
       "      <th></th>\n",
       "      <th></th>\n",
       "      <th></th>\n",
       "      <th></th>\n",
       "      <th></th>\n",
       "    </tr>\n",
       "  </thead>\n",
       "  <tbody>\n",
       "    <tr>\n",
       "      <th>22/12/2015 4:00:00 PM</th>\n",
       "      <td>0.899895</td>\n",
       "      <td>0.160292</td>\n",
       "      <td>0.000000</td>\n",
       "      <td>0.00000</td>\n",
       "      <td>0.019710</td>\n",
       "      <td>0.993304</td>\n",
       "      <td>0.985738</td>\n",
       "      <td>0.947643</td>\n",
       "      <td>0.220683</td>\n",
       "      <td>0.000000</td>\n",
       "      <td>...</td>\n",
       "      <td>0</td>\n",
       "      <td>0</td>\n",
       "      <td>1</td>\n",
       "      <td>0</td>\n",
       "      <td>0</td>\n",
       "      <td>1</td>\n",
       "      <td>0</td>\n",
       "      <td>0</td>\n",
       "      <td>1</td>\n",
       "      <td>0</td>\n",
       "    </tr>\n",
       "    <tr>\n",
       "      <th>22/12/2015 4:00:01 PM</th>\n",
       "      <td>0.895111</td>\n",
       "      <td>0.159845</td>\n",
       "      <td>0.000000</td>\n",
       "      <td>0.00000</td>\n",
       "      <td>0.019710</td>\n",
       "      <td>0.992222</td>\n",
       "      <td>0.985738</td>\n",
       "      <td>0.947317</td>\n",
       "      <td>0.220683</td>\n",
       "      <td>0.000000</td>\n",
       "      <td>...</td>\n",
       "      <td>0</td>\n",
       "      <td>0</td>\n",
       "      <td>1</td>\n",
       "      <td>0</td>\n",
       "      <td>0</td>\n",
       "      <td>1</td>\n",
       "      <td>0</td>\n",
       "      <td>0</td>\n",
       "      <td>1</td>\n",
       "      <td>0</td>\n",
       "    </tr>\n",
       "    <tr>\n",
       "      <th>22/12/2015 4:00:02 PM</th>\n",
       "      <td>0.888694</td>\n",
       "      <td>0.159533</td>\n",
       "      <td>0.000000</td>\n",
       "      <td>0.00000</td>\n",
       "      <td>0.019710</td>\n",
       "      <td>0.991707</td>\n",
       "      <td>0.987862</td>\n",
       "      <td>0.946828</td>\n",
       "      <td>0.220683</td>\n",
       "      <td>0.000000</td>\n",
       "      <td>...</td>\n",
       "      <td>0</td>\n",
       "      <td>0</td>\n",
       "      <td>1</td>\n",
       "      <td>0</td>\n",
       "      <td>0</td>\n",
       "      <td>1</td>\n",
       "      <td>0</td>\n",
       "      <td>0</td>\n",
       "      <td>1</td>\n",
       "      <td>0</td>\n",
       "    </tr>\n",
       "    <tr>\n",
       "      <th>22/12/2015 4:00:03 PM</th>\n",
       "      <td>0.884611</td>\n",
       "      <td>0.158819</td>\n",
       "      <td>0.000000</td>\n",
       "      <td>0.00000</td>\n",
       "      <td>0.019710</td>\n",
       "      <td>0.991398</td>\n",
       "      <td>0.987862</td>\n",
       "      <td>0.946828</td>\n",
       "      <td>0.220501</td>\n",
       "      <td>0.000000</td>\n",
       "      <td>...</td>\n",
       "      <td>0</td>\n",
       "      <td>0</td>\n",
       "      <td>1</td>\n",
       "      <td>0</td>\n",
       "      <td>0</td>\n",
       "      <td>1</td>\n",
       "      <td>0</td>\n",
       "      <td>0</td>\n",
       "      <td>1</td>\n",
       "      <td>0</td>\n",
       "    </tr>\n",
       "    <tr>\n",
       "      <th>22/12/2015 4:00:04 PM</th>\n",
       "      <td>0.883327</td>\n",
       "      <td>0.158372</td>\n",
       "      <td>0.003408</td>\n",
       "      <td>0.00000</td>\n",
       "      <td>0.019710</td>\n",
       "      <td>0.991398</td>\n",
       "      <td>0.987862</td>\n",
       "      <td>0.946828</td>\n",
       "      <td>0.220365</td>\n",
       "      <td>0.000000</td>\n",
       "      <td>...</td>\n",
       "      <td>0</td>\n",
       "      <td>0</td>\n",
       "      <td>1</td>\n",
       "      <td>0</td>\n",
       "      <td>0</td>\n",
       "      <td>1</td>\n",
       "      <td>0</td>\n",
       "      <td>0</td>\n",
       "      <td>1</td>\n",
       "      <td>0</td>\n",
       "    </tr>\n",
       "    <tr>\n",
       "      <th>...</th>\n",
       "      <td>...</td>\n",
       "      <td>...</td>\n",
       "      <td>...</td>\n",
       "      <td>...</td>\n",
       "      <td>...</td>\n",
       "      <td>...</td>\n",
       "      <td>...</td>\n",
       "      <td>...</td>\n",
       "      <td>...</td>\n",
       "      <td>...</td>\n",
       "      <td>...</td>\n",
       "      <td>...</td>\n",
       "      <td>...</td>\n",
       "      <td>...</td>\n",
       "      <td>...</td>\n",
       "      <td>...</td>\n",
       "      <td>...</td>\n",
       "      <td>...</td>\n",
       "      <td>...</td>\n",
       "      <td>...</td>\n",
       "      <td>...</td>\n",
       "    </tr>\n",
       "    <tr>\n",
       "      <th>28/12/2015 9:59:55 AM</th>\n",
       "      <td>0.896278</td>\n",
       "      <td>0.457619</td>\n",
       "      <td>0.627270</td>\n",
       "      <td>0.25853</td>\n",
       "      <td>0.103740</td>\n",
       "      <td>0.981663</td>\n",
       "      <td>0.935973</td>\n",
       "      <td>0.937812</td>\n",
       "      <td>0.933191</td>\n",
       "      <td>0.999677</td>\n",
       "      <td>...</td>\n",
       "      <td>0</td>\n",
       "      <td>0</td>\n",
       "      <td>1</td>\n",
       "      <td>0</td>\n",
       "      <td>0</td>\n",
       "      <td>1</td>\n",
       "      <td>0</td>\n",
       "      <td>0</td>\n",
       "      <td>1</td>\n",
       "      <td>0</td>\n",
       "    </tr>\n",
       "    <tr>\n",
       "      <th>28/12/2015 9:59:56 AM</th>\n",
       "      <td>0.892078</td>\n",
       "      <td>0.457530</td>\n",
       "      <td>0.627270</td>\n",
       "      <td>0.25853</td>\n",
       "      <td>0.103740</td>\n",
       "      <td>0.981663</td>\n",
       "      <td>0.935973</td>\n",
       "      <td>0.936943</td>\n",
       "      <td>0.933282</td>\n",
       "      <td>0.999677</td>\n",
       "      <td>...</td>\n",
       "      <td>0</td>\n",
       "      <td>0</td>\n",
       "      <td>1</td>\n",
       "      <td>0</td>\n",
       "      <td>0</td>\n",
       "      <td>1</td>\n",
       "      <td>0</td>\n",
       "      <td>0</td>\n",
       "      <td>1</td>\n",
       "      <td>0</td>\n",
       "    </tr>\n",
       "    <tr>\n",
       "      <th>28/12/2015 9:59:57 AM</th>\n",
       "      <td>0.886944</td>\n",
       "      <td>0.457440</td>\n",
       "      <td>0.627270</td>\n",
       "      <td>0.25853</td>\n",
       "      <td>0.104221</td>\n",
       "      <td>0.982693</td>\n",
       "      <td>0.935973</td>\n",
       "      <td>0.935965</td>\n",
       "      <td>0.933372</td>\n",
       "      <td>0.999677</td>\n",
       "      <td>...</td>\n",
       "      <td>0</td>\n",
       "      <td>0</td>\n",
       "      <td>1</td>\n",
       "      <td>0</td>\n",
       "      <td>0</td>\n",
       "      <td>1</td>\n",
       "      <td>0</td>\n",
       "      <td>0</td>\n",
       "      <td>1</td>\n",
       "      <td>0</td>\n",
       "    </tr>\n",
       "    <tr>\n",
       "      <th>28/12/2015 9:59:58 AM</th>\n",
       "      <td>0.884611</td>\n",
       "      <td>0.457485</td>\n",
       "      <td>0.627270</td>\n",
       "      <td>0.25853</td>\n",
       "      <td>0.104221</td>\n",
       "      <td>0.982899</td>\n",
       "      <td>0.935973</td>\n",
       "      <td>0.935586</td>\n",
       "      <td>0.933645</td>\n",
       "      <td>0.999677</td>\n",
       "      <td>...</td>\n",
       "      <td>0</td>\n",
       "      <td>0</td>\n",
       "      <td>1</td>\n",
       "      <td>0</td>\n",
       "      <td>0</td>\n",
       "      <td>1</td>\n",
       "      <td>0</td>\n",
       "      <td>0</td>\n",
       "      <td>1</td>\n",
       "      <td>0</td>\n",
       "    </tr>\n",
       "    <tr>\n",
       "      <th>28/12/2015 9:59:59 AM</th>\n",
       "      <td>0.884144</td>\n",
       "      <td>0.457396</td>\n",
       "      <td>0.627270</td>\n",
       "      <td>0.25853</td>\n",
       "      <td>0.104221</td>\n",
       "      <td>0.982899</td>\n",
       "      <td>0.935973</td>\n",
       "      <td>0.935586</td>\n",
       "      <td>0.933600</td>\n",
       "      <td>0.999677</td>\n",
       "      <td>...</td>\n",
       "      <td>0</td>\n",
       "      <td>0</td>\n",
       "      <td>1</td>\n",
       "      <td>0</td>\n",
       "      <td>0</td>\n",
       "      <td>1</td>\n",
       "      <td>0</td>\n",
       "      <td>0</td>\n",
       "      <td>1</td>\n",
       "      <td>0</td>\n",
       "    </tr>\n",
       "  </tbody>\n",
       "</table>\n",
       "<p>496800 rows × 103 columns</p>\n",
       "</div>"
      ],
      "text/plain": [
       "                         FIT101    LIT101    AIT201   AIT202    AIT203  \\\n",
       "Timestamp                                                                \n",
       "22/12/2015 4:00:00 PM  0.899895  0.160292  0.000000  0.00000  0.019710   \n",
       "22/12/2015 4:00:01 PM  0.895111  0.159845  0.000000  0.00000  0.019710   \n",
       "22/12/2015 4:00:02 PM  0.888694  0.159533  0.000000  0.00000  0.019710   \n",
       "22/12/2015 4:00:03 PM  0.884611  0.158819  0.000000  0.00000  0.019710   \n",
       "22/12/2015 4:00:04 PM  0.883327  0.158372  0.003408  0.00000  0.019710   \n",
       "...                         ...       ...       ...      ...       ...   \n",
       "28/12/2015 9:59:55 AM  0.896278  0.457619  0.627270  0.25853  0.103740   \n",
       "28/12/2015 9:59:56 AM  0.892078  0.457530  0.627270  0.25853  0.103740   \n",
       "28/12/2015 9:59:57 AM  0.886944  0.457440  0.627270  0.25853  0.104221   \n",
       "28/12/2015 9:59:58 AM  0.884611  0.457485  0.627270  0.25853  0.104221   \n",
       "28/12/2015 9:59:59 AM  0.884144  0.457396  0.627270  0.25853  0.104221   \n",
       "\n",
       "                         FIT201   DPIT301    FIT301    LIT301    AIT401  ...  \\\n",
       "Timestamp                                                                ...   \n",
       "22/12/2015 4:00:00 PM  0.993304  0.985738  0.947643  0.220683  0.000000  ...   \n",
       "22/12/2015 4:00:01 PM  0.992222  0.985738  0.947317  0.220683  0.000000  ...   \n",
       "22/12/2015 4:00:02 PM  0.991707  0.987862  0.946828  0.220683  0.000000  ...   \n",
       "22/12/2015 4:00:03 PM  0.991398  0.987862  0.946828  0.220501  0.000000  ...   \n",
       "22/12/2015 4:00:04 PM  0.991398  0.987862  0.946828  0.220365  0.000000  ...   \n",
       "...                         ...       ...       ...       ...       ...  ...   \n",
       "28/12/2015 9:59:55 AM  0.981663  0.935973  0.937812  0.933191  0.999677  ...   \n",
       "28/12/2015 9:59:56 AM  0.981663  0.935973  0.936943  0.933282  0.999677  ...   \n",
       "28/12/2015 9:59:57 AM  0.982693  0.935973  0.935965  0.933372  0.999677  ...   \n",
       "28/12/2015 9:59:58 AM  0.982899  0.935973  0.935586  0.933645  0.999677  ...   \n",
       "28/12/2015 9:59:59 AM  0.982899  0.935973  0.935586  0.933600  0.999677  ...   \n",
       "\n",
       "                       P502_2  P601_0  P601_1  P601_2  P602_0  P602_1  P602_2  \\\n",
       "Timestamp                                                                       \n",
       "22/12/2015 4:00:00 PM       0       0       1       0       0       1       0   \n",
       "22/12/2015 4:00:01 PM       0       0       1       0       0       1       0   \n",
       "22/12/2015 4:00:02 PM       0       0       1       0       0       1       0   \n",
       "22/12/2015 4:00:03 PM       0       0       1       0       0       1       0   \n",
       "22/12/2015 4:00:04 PM       0       0       1       0       0       1       0   \n",
       "...                       ...     ...     ...     ...     ...     ...     ...   \n",
       "28/12/2015 9:59:55 AM       0       0       1       0       0       1       0   \n",
       "28/12/2015 9:59:56 AM       0       0       1       0       0       1       0   \n",
       "28/12/2015 9:59:57 AM       0       0       1       0       0       1       0   \n",
       "28/12/2015 9:59:58 AM       0       0       1       0       0       1       0   \n",
       "28/12/2015 9:59:59 AM       0       0       1       0       0       1       0   \n",
       "\n",
       "                       P603_0  P603_1  P603_2  \n",
       "Timestamp                                      \n",
       "22/12/2015 4:00:00 PM       0       1       0  \n",
       "22/12/2015 4:00:01 PM       0       1       0  \n",
       "22/12/2015 4:00:02 PM       0       1       0  \n",
       "22/12/2015 4:00:03 PM       0       1       0  \n",
       "22/12/2015 4:00:04 PM       0       1       0  \n",
       "...                       ...     ...     ...  \n",
       "28/12/2015 9:59:55 AM       0       1       0  \n",
       "28/12/2015 9:59:56 AM       0       1       0  \n",
       "28/12/2015 9:59:57 AM       0       1       0  \n",
       "28/12/2015 9:59:58 AM       0       1       0  \n",
       "28/12/2015 9:59:59 AM       0       1       0  \n",
       "\n",
       "[496800 rows x 103 columns]"
      ]
     },
     "execution_count": 50,
     "metadata": {},
     "output_type": "execute_result"
    }
   ],
   "source": [
    "data"
   ]
  },
  {
   "cell_type": "code",
   "execution_count": 8,
   "id": "cc896ced-58ab-4cc1-9d50-69a92d5e9106",
   "metadata": {},
   "outputs": [],
   "source": [
    "feats, tr_x = generate_datasets_for_training2(data,10)"
   ]
  },
  {
   "cell_type": "code",
   "execution_count": 9,
   "id": "7349c17a-a434-4bee-bb00-3dd9483b8da6",
   "metadata": {},
   "outputs": [
    {
     "name": "stdout",
     "output_type": "stream",
     "text": [
      "the shape of train X is:  (496790, 10, 103)\n"
     ]
    }
   ],
   "source": [
    "print(\"the shape of train X is: \",tr_x.shape)"
   ]
  },
  {
   "cell_type": "markdown",
   "id": "60ced01d-8f82-4a51-adb6-3c035037b165",
   "metadata": {},
   "source": [
    "<h3>A function that takes a sensor and displays a line plot</h3>"
   ]
  },
  {
   "cell_type": "code",
   "execution_count": 61,
   "id": "f340a8b3-79be-4da5-af66-f0aed88cb944",
   "metadata": {},
   "outputs": [],
   "source": [
    "import matplotlib.pyplot as plt\n",
    "\n",
    "def showSensors(sensor_names, data, num_values=1000):\n",
    "    \"\"\"\n",
    "    Plots line graphs for the specified sensors (columns) of the DataFrame.\n",
    "\n",
    "    Parameters:\n",
    "    sensor_names (list of str): The names of the columns to plot.\n",
    "    data (pd.DataFrame): The DataFrame containing the data.\n",
    "    num_values (int): The number of values to display in the plot.\n",
    "\n",
    "    Returns:\n",
    "    None\n",
    "    \"\"\"\n",
    "    # Ensure that all sensor names exist in the DataFrame\n",
    "    for sensorname in sensor_names:\n",
    "        if sensorname not in data.columns:\n",
    "            raise ValueError(f\"Column '{sensorname}' not found in the DataFrame\")\n",
    "    \n",
    "    plt.figure(figsize=(10, 6))\n",
    "\n",
    "    # Plot each sensor\n",
    "    for sensorname in sensor_names:\n",
    "        plt.plot(data[sensorname].iloc[:num_values], label=sensorname)\n",
    "    \n",
    "    plt.title(f\"Line Graph for {', '.join(sensor_names)} (first {num_values} values)\")\n",
    "    plt.xlabel(\"Index\")\n",
    "    plt.ylabel(\"Value\")\n",
    "    plt.legend()\n",
    "    plt.grid(True)\n",
    "    plt.show()\n"
   ]
  },
  {
   "cell_type": "code",
   "execution_count": 58,
   "id": "421b8c6b-7960-4e20-8a9d-53242b843434",
   "metadata": {},
   "outputs": [
    {
     "data": {
      "image/png": "[encoded data removed]",
      "text/plain": [
       "<Figure size 1000x600 with 1 Axes>"
      ]
     },
     "metadata": {},
     "output_type": "display_data"
    }
   ],
   "source": [
    "showSensor(\"FIT101\", data, num_values=10000)"
   ]
  },
  {
   "cell_type": "code",
   "execution_count": 64,
   "id": "4097a4d6-62f0-4f42-af71-ad7af54c0ad9",
   "metadata": {},
   "outputs": [
    {
     "data": {
      "image/png": "[encoded data removed]",
      "text/plain": [
       "<Figure size 1000x600 with 1 Axes>"
      ]
     },
     "metadata": {},
     "output_type": "display_data"
    }
   ],
   "source": [
    "showSensors([\"FIT101\", \"LIT101\", \"AIT203\"], data, num_values=10000)"
   ]
  },
  {
   "cell_type": "markdown",
   "id": "ac1a8600-4be4-4ce9-bbcd-d2e7e6a35b44",
   "metadata": {},
   "source": [
    "<h2>Let's start building our model</h2>"
   ]
  },
  {
   "cell_type": "code",
   "execution_count": 5,
   "id": "510a68fb-d847-4bab-a6aa-cdc1df70f54f",
   "metadata": {},
   "outputs": [
    {
     "name": "stdout",
     "output_type": "stream",
     "text": [
      "Model: \"sequential\"\n",
      "_________________________________________________________________\n",
      " Layer (type)                Output Shape              Param #   \n",
      "=================================================================\n",
      " encoder_1 (LSTM)            (None, 10, 64)            43008     \n",
      "                                                                 \n",
      " encoder_2 (LSTM)            (None, 10, 32)            12416     \n",
      "                                                                 \n",
      " encoder_3 (LSTM)            (None, 16)                3136      \n",
      "                                                                 \n",
      " encoder_decoder_bridge (Rep  (None, 10, 16)           0         \n",
      " eatVector)                                                      \n",
      "                                                                 \n",
      " decoder_1 (LSTM)            (None, 10, 16)            2112      \n",
      "                                                                 \n",
      " decoder_2 (LSTM)            (None, 10, 32)            6272      \n",
      "                                                                 \n",
      " decoder_3 (LSTM)            (None, 10, 64)            24832     \n",
      "                                                                 \n",
      " time_distributed (TimeDistr  (None, 10, 103)          6695      \n",
      " ibuted)                                                         \n",
      "                                                                 \n",
      "=================================================================\n",
      "Total params: 98,471\n",
      "Trainable params: 98,471\n",
      "Non-trainable params: 0\n",
      "_________________________________________________________________\n",
      "None\n"
     ]
    }
   ],
   "source": [
    "window_length=10\n",
    "feats=103\n",
    "model = keras.Sequential()\n",
    "model.add(keras.layers.LSTM(64, kernel_initializer='he_uniform', batch_input_shape=(None, window_length, feats), return_sequences=True, name='encoder_1'))\n",
    "model.add(keras.layers.LSTM(32, kernel_initializer='he_uniform', return_sequences=True, name='encoder_2'))\n",
    "model.add(keras.layers.LSTM(16, kernel_initializer='he_uniform', return_sequences=False, name='encoder_3'))\n",
    "model.add(keras.layers.RepeatVector(window_length, name='encoder_decoder_bridge'))\n",
    "model.add(keras.layers.LSTM(16, kernel_initializer='he_uniform', return_sequences=True, name='decoder_1'))\n",
    "model.add(keras.layers.LSTM(32, kernel_initializer='he_uniform', return_sequences=True, name='decoder_2'))\n",
    "model.add(keras.layers.LSTM(64, kernel_initializer='he_uniform', return_sequences=True, name='decoder_3'))\n",
    "model.add(keras.layers.TimeDistributed(keras.layers.Dense(feats)))\n",
    "model.compile(loss=\"mse\",optimizer='adam')\n",
    "model.build()\n",
    "print(model.summary())"
   ]
  },
  {
   "cell_type": "code",
   "execution_count": 6,
   "id": "b269d29b-80b0-4929-af54-f501792577d3",
   "metadata": {},
   "outputs": [],
   "source": [
    "early_stop = tf.keras.callbacks.EarlyStopping(monitor='val_loss', min_delta=1e-2, patience=5, verbose=0, mode='auto', baseline=None, restore_best_weights=True)"
   ]
  },
  {
   "cell_type": "code",
   "execution_count": 63,
   "id": "0b58075e-6517-490f-a29c-6373af4c522b",
   "metadata": {},
   "outputs": [
    {
     "name": "stdout",
     "output_type": "stream",
     "text": [
      "Epoch 1/100\n",
      "24840/24840 [==============================] - 1479s 59ms/step - loss: 0.0255 - val_loss: 0.0100\n",
      "Epoch 2/100\n",
      "24840/24840 [==============================] - 1536s 62ms/step - loss: 0.0046 - val_loss: 0.0028\n",
      "Epoch 3/100\n",
      "24840/24840 [==============================] - 1562s 63ms/step - loss: 0.0030 - val_loss: 0.0023\n",
      "Epoch 4/100\n",
      "24840/24840 [==============================] - 1593s 64ms/step - loss: 0.0025 - val_loss: 0.0018\n",
      "Epoch 5/100\n",
      "24840/24840 [==============================] - 1744s 70ms/step - loss: 0.0021 - val_loss: 0.0012\n",
      "Epoch 6/100\n",
      "24840/24840 [==============================] - 1880s 76ms/step - loss: 0.0018 - val_loss: 0.0010\n"
     ]
    }
   ],
   "source": [
    "history = model.fit(x=tr_x, y=tr_x, epochs=100, batch_size=16, shuffle=False, validation_split=0.2, callbacks=[early_stop])"
   ]
  },
  {
   "cell_type": "code",
   "execution_count": 15,
   "id": "fa6cf88b-ae8a-4637-a356-4e7ed54bb7fa",
   "metadata": {},
   "outputs": [
    {
     "data": {
      "image/png": "[encoded data removed]",
      "text/plain": [
       "<Figure size 640x480 with 1 Axes>"
      ]
     },
     "metadata": {},
     "output_type": "display_data"
    }
   ],
   "source": [
    "# Plot training & validation loss values\n",
    "plt.plot(history.history['loss'])\n",
    "plt.plot(history.history['val_loss'])\n",
    "plt.title('Model loss')\n",
    "plt.ylabel('Loss')\n",
    "plt.xlabel('Epoch')\n",
    "plt.legend(['Train', 'Validation'], loc='upper left')\n",
    "plt.show()"
   ]
  },
  {
   "cell_type": "code",
   "execution_count": 64,
   "id": "f48b36f8-4817-4299-89ca-f7857e428ea5",
   "metadata": {},
   "outputs": [],
   "source": [
    "# Save the weights\n",
    "#model.save_weights('checkpoints/new_checkpoint1.weights.h5')"
   ]
  },
  {
   "cell_type": "code",
   "execution_count": 7,
   "id": "271d3102-0c56-420a-925b-473b67424250",
   "metadata": {},
   "outputs": [],
   "source": [
    "#Load the weights \n",
    "model.load_weights('checkpoints/new_checkpoint1.weights.h5')"
   ]
  },
  {
   "cell_type": "code",
   "execution_count": 10,
   "id": "9467fbed-67af-4ce1-a729-c421cf40bf7a",
   "metadata": {},
   "outputs": [],
   "source": [
    "#let us calculate the threshold for the reconsrtuction  error\n",
    "X_tr_pred = model.predict(tr_x, verbose=0)\n"
   ]
  },
  {
   "cell_type": "code",
   "execution_count": 30,
   "id": "31cdc345-f4a6-4974-be18-5e5b55ee1b46",
   "metadata": {},
   "outputs": [],
   "source": [
    "# Calculate the mean absolute error for each prediction\n",
    "calculated_mse = np.mean((X_tr_pred - tr_x) ** 2, axis=(1, 2))"
   ]
  },
  {
   "cell_type": "code",
   "execution_count": 32,
   "id": "8da34a39-9e51-492a-a8d3-c580567e01e5",
   "metadata": {},
   "outputs": [
    {
     "data": {
      "image/png": "[encoded data removed]",
      "text/plain": [
       "<Figure size 1000x600 with 2 Axes>"
      ]
     },
     "metadata": {},
     "output_type": "display_data"
    }
   ],
   "source": [
    "# Plot the distribution of the reconstruction error\n",
    "plt.figure(figsize=(10, 6))\n",
    "\n",
    "# Histogram\n",
    "plt.subplot(2, 1, 1)\n",
    "plt.hist(calculated_mse, bins=100, alpha=0.75, color='blue')\n",
    "plt.title('Histogram of Reconstruction Error')\n",
    "plt.xlabel('Reconstruction Error')\n",
    "plt.ylabel('Frequency')\n",
    "\n",
    "# KDE plot\n",
    "plt.subplot(2, 1, 2)\n",
    "sns.kdeplot(calculated_mse, bw_adjust=0.5)\n",
    "plt.title('KDE of Reconstruction Error')\n",
    "plt.xlabel('Reconstruction Error')\n",
    "plt.ylabel('Density')\n",
    "\n",
    "plt.tight_layout()\n",
    "plt.show()"
   ]
  },
  {
   "cell_type": "code",
   "execution_count": 14,
   "id": "dd3c8fd6-a902-4ae1-8568-656378dacbb1",
   "metadata": {},
   "outputs": [
    {
     "name": "stdout",
     "output_type": "stream",
     "text": [
      "Maximum Error: 0.25050817320284346\n",
      "Mean is: 0.016313234972552937\n",
      "mean plus std 0.09484499169181074\n"
     ]
    }
   ],
   "source": [
    "max = np.max(calculated_mse)\n",
    "mean = np.mean(calculated_mse)\n",
    "std_dev = np.std(calculated_mse)\n",
    "print(f'Maximum Error: {max}')\n",
    "print(f'Mean is: {mean}')\n",
    "print(f'mean plus std {mean + 3 * std_dev}')"
   ]
  },
  {
   "cell_type": "code",
   "execution_count": 16,
   "id": "c4107ebc-081e-459e-b5a0-c44c8010929b",
   "metadata": {},
   "outputs": [
    {
     "name": "stdout",
     "output_type": "stream",
     "text": [
      "Q1 (25th percentile): 0.0009145291829571653\n",
      "Q2 (50th percentile / median): 0.0059768302411737795\n",
      "Q3 (75th percentile): 0.022174508672596585\n"
     ]
    }
   ],
   "source": [
    "# Calculate the quartiles\n",
    "Q1 = np.percentile(calculated_mse, 25)\n",
    "Q2 = np.percentile(calculated_mse, 50)  # This is also the median\n",
    "Q3 = np.percentile(calculated_mse, 75)\n",
    "\n",
    "print(f\"Q1 (25th percentile): {Q1}\")\n",
    "print(f\"Q2 (50th percentile / median): {Q2}\")\n",
    "print(f\"Q3 (75th percentile): {Q3}\")"
   ]
  },
  {
   "cell_type": "code",
   "execution_count": 17,
   "id": "0ad8ab68-63d9-4310-9afe-ca9c3523ef07",
   "metadata": {},
   "outputs": [
    {
     "name": "stdout",
     "output_type": "stream",
     "text": [
      "the possible threshold is: 0.054064477907055715\n",
      "0.04109031645507593\n"
     ]
    }
   ],
   "source": [
    "IQR= Q3-Q1\n",
    "possible_threshold = Q3 + 1.5 * IQR \n",
    "print(f'the possible threshold is: {possible_threshold}')\n",
    "percentile_90 = np.percentile(calculated_mse, 90)\n",
    "print(percentile_90)"
   ]
  },
  {
   "cell_type": "markdown",
   "id": "74e66653-4b36-466b-9728-ea61e9735f4f",
   "metadata": {},
   "source": [
    "<h1>The Anomaly Detection Part</h1>"
   ]
  },
  {
   "cell_type": "code",
   "execution_count": 16,
   "id": "0d871a7e-7535-48fb-9c9d-a516c0b56e19",
   "metadata": {},
   "outputs": [],
   "source": [
    "mixed_data= \"D://Msc_Data_Science_1//Semester 2//Data science lab 1//LSTM data//SWaT_Dataset_Attack_v0 - Copy 2.csv\""
   ]
  },
  {
   "cell_type": "code",
   "execution_count": 17,
   "id": "f731f185-8acc-47fc-9045-33d7b8045c05",
   "metadata": {},
   "outputs": [
    {
     "name": "stderr",
     "output_type": "stream",
     "text": [
      "C:\\Users\\mfaki\\AppData\\Local\\Temp\\ipykernel_28368\\4273617739.py:17: SettingWithCopyWarning: \n",
      "A value is trying to be set on a copy of a slice from a DataFrame.\n",
      "Try using .loc[row_indexer,col_indexer] = value instead\n",
      "\n",
      "See the caveats in the documentation: https://pandas.pydata.org/pandas-docs/stable/user_guide/indexing.html#returning-a-view-versus-a-copy\n",
      "  actuators_dummies[actuator]= pd.Categorical(actuators_dummies[actuator], categories=[0, 1, 2])\n"
     ]
    }
   ],
   "source": [
    "scaler= MinMaxScaler()\n",
    "mixed_data_without_label = dataEngineering(mixed_data, scaler)"
   ]
  },
  {
   "cell_type": "code",
   "execution_count": 18,
   "id": "e0bf6597-ad88-457c-b2ea-16d3c94d5eef",
   "metadata": {},
   "outputs": [
    {
     "data": {
      "text/plain": [
       "(449919, 103)"
      ]
     },
     "execution_count": 18,
     "metadata": {},
     "output_type": "execute_result"
    }
   ],
   "source": [
    "mixed_data_without_label.shape"
   ]
  },
  {
   "cell_type": "code",
   "execution_count": 19,
   "id": "ee9f798a-2205-4faa-8c55-d2f60389a203",
   "metadata": {},
   "outputs": [
    {
     "data": {
      "text/html": [
       "<div>\n",
       "<style scoped>\n",
       "    .dataframe tbody tr th:only-of-type {\n",
       "        vertical-align: middle;\n",
       "    }\n",
       "\n",
       "    .dataframe tbody tr th {\n",
       "        vertical-align: top;\n",
       "    }\n",
       "\n",
       "    .dataframe thead th {\n",
       "        text-align: right;\n",
       "    }\n",
       "</style>\n",
       "<table border=\"1\" class=\"dataframe\">\n",
       "  <thead>\n",
       "    <tr style=\"text-align: right;\">\n",
       "      <th></th>\n",
       "      <th>FIT101</th>\n",
       "      <th>LIT101</th>\n",
       "      <th>AIT201</th>\n",
       "      <th>AIT202</th>\n",
       "      <th>AIT203</th>\n",
       "      <th>FIT201</th>\n",
       "      <th>DPIT301</th>\n",
       "      <th>FIT301</th>\n",
       "      <th>LIT301</th>\n",
       "      <th>AIT401</th>\n",
       "      <th>...</th>\n",
       "      <th>P502_2</th>\n",
       "      <th>P601_0</th>\n",
       "      <th>P601_1</th>\n",
       "      <th>P601_2</th>\n",
       "      <th>P602_0</th>\n",
       "      <th>P602_1</th>\n",
       "      <th>P602_2</th>\n",
       "      <th>P603_0</th>\n",
       "      <th>P603_1</th>\n",
       "      <th>P603_2</th>\n",
       "    </tr>\n",
       "    <tr>\n",
       "      <th>Timestamp</th>\n",
       "      <th></th>\n",
       "      <th></th>\n",
       "      <th></th>\n",
       "      <th></th>\n",
       "      <th></th>\n",
       "      <th></th>\n",
       "      <th></th>\n",
       "      <th></th>\n",
       "      <th></th>\n",
       "      <th></th>\n",
       "      <th></th>\n",
       "      <th></th>\n",
       "      <th></th>\n",
       "      <th></th>\n",
       "      <th></th>\n",
       "      <th></th>\n",
       "      <th></th>\n",
       "      <th></th>\n",
       "      <th></th>\n",
       "      <th></th>\n",
       "      <th></th>\n",
       "    </tr>\n",
       "  </thead>\n",
       "  <tbody>\n",
       "    <tr>\n",
       "      <th>28/12/2015 10:00:00 AM</th>\n",
       "      <td>0.879322</td>\n",
       "      <td>0.452962</td>\n",
       "      <td>0.942783</td>\n",
       "      <td>0.876785</td>\n",
       "      <td>0.436773</td>\n",
       "      <td>0.865044</td>\n",
       "      <td>0.438853</td>\n",
       "      <td>0.928726</td>\n",
       "      <td>0.707350</td>\n",
       "      <td>0.500000</td>\n",
       "      <td>...</td>\n",
       "      <td>0</td>\n",
       "      <td>0</td>\n",
       "      <td>1</td>\n",
       "      <td>0</td>\n",
       "      <td>0</td>\n",
       "      <td>1</td>\n",
       "      <td>0</td>\n",
       "      <td>0</td>\n",
       "      <td>1</td>\n",
       "      <td>0</td>\n",
       "    </tr>\n",
       "    <tr>\n",
       "      <th>28/12/2015 10:00:01 AM</th>\n",
       "      <td>0.886285</td>\n",
       "      <td>0.453015</td>\n",
       "      <td>0.942783</td>\n",
       "      <td>0.876785</td>\n",
       "      <td>0.436773</td>\n",
       "      <td>0.865044</td>\n",
       "      <td>0.438853</td>\n",
       "      <td>0.929319</td>\n",
       "      <td>0.707350</td>\n",
       "      <td>0.500000</td>\n",
       "      <td>...</td>\n",
       "      <td>0</td>\n",
       "      <td>0</td>\n",
       "      <td>1</td>\n",
       "      <td>0</td>\n",
       "      <td>0</td>\n",
       "      <td>1</td>\n",
       "      <td>0</td>\n",
       "      <td>0</td>\n",
       "      <td>1</td>\n",
       "      <td>0</td>\n",
       "    </tr>\n",
       "    <tr>\n",
       "      <th>28/12/2015 10:00:02 AM</th>\n",
       "      <td>0.901833</td>\n",
       "      <td>0.452962</td>\n",
       "      <td>0.942783</td>\n",
       "      <td>0.876081</td>\n",
       "      <td>0.436773</td>\n",
       "      <td>0.863956</td>\n",
       "      <td>0.437572</td>\n",
       "      <td>0.929480</td>\n",
       "      <td>0.707733</td>\n",
       "      <td>0.500000</td>\n",
       "      <td>...</td>\n",
       "      <td>0</td>\n",
       "      <td>0</td>\n",
       "      <td>1</td>\n",
       "      <td>0</td>\n",
       "      <td>0</td>\n",
       "      <td>1</td>\n",
       "      <td>0</td>\n",
       "      <td>0</td>\n",
       "      <td>1</td>\n",
       "      <td>0</td>\n",
       "    </tr>\n",
       "    <tr>\n",
       "      <th>28/12/2015 10:00:03 AM</th>\n",
       "      <td>0.918195</td>\n",
       "      <td>0.453122</td>\n",
       "      <td>0.942783</td>\n",
       "      <td>0.876081</td>\n",
       "      <td>0.436773</td>\n",
       "      <td>0.863956</td>\n",
       "      <td>0.437572</td>\n",
       "      <td>0.929480</td>\n",
       "      <td>0.708116</td>\n",
       "      <td>0.500000</td>\n",
       "      <td>...</td>\n",
       "      <td>0</td>\n",
       "      <td>0</td>\n",
       "      <td>1</td>\n",
       "      <td>0</td>\n",
       "      <td>0</td>\n",
       "      <td>1</td>\n",
       "      <td>0</td>\n",
       "      <td>0</td>\n",
       "      <td>1</td>\n",
       "      <td>0</td>\n",
       "    </tr>\n",
       "    <tr>\n",
       "      <th>28/12/2015 10:00:04 AM</th>\n",
       "      <td>0.930842</td>\n",
       "      <td>0.453816</td>\n",
       "      <td>0.942783</td>\n",
       "      <td>0.876081</td>\n",
       "      <td>0.436773</td>\n",
       "      <td>0.864228</td>\n",
       "      <td>0.437572</td>\n",
       "      <td>0.929480</td>\n",
       "      <td>0.708451</td>\n",
       "      <td>0.500000</td>\n",
       "      <td>...</td>\n",
       "      <td>0</td>\n",
       "      <td>0</td>\n",
       "      <td>1</td>\n",
       "      <td>0</td>\n",
       "      <td>0</td>\n",
       "      <td>1</td>\n",
       "      <td>0</td>\n",
       "      <td>0</td>\n",
       "      <td>1</td>\n",
       "      <td>0</td>\n",
       "    </tr>\n",
       "    <tr>\n",
       "      <th>...</th>\n",
       "      <td>...</td>\n",
       "      <td>...</td>\n",
       "      <td>...</td>\n",
       "      <td>...</td>\n",
       "      <td>...</td>\n",
       "      <td>...</td>\n",
       "      <td>...</td>\n",
       "      <td>...</td>\n",
       "      <td>...</td>\n",
       "      <td>...</td>\n",
       "      <td>...</td>\n",
       "      <td>...</td>\n",
       "      <td>...</td>\n",
       "      <td>...</td>\n",
       "      <td>...</td>\n",
       "      <td>...</td>\n",
       "      <td>...</td>\n",
       "      <td>...</td>\n",
       "      <td>...</td>\n",
       "      <td>...</td>\n",
       "      <td>...</td>\n",
       "    </tr>\n",
       "    <tr>\n",
       "      <th>2/1/2016 2:59:55 PM</th>\n",
       "      <td>0.927477</td>\n",
       "      <td>0.448477</td>\n",
       "      <td>0.000643</td>\n",
       "      <td>0.965415</td>\n",
       "      <td>0.167313</td>\n",
       "      <td>0.870030</td>\n",
       "      <td>0.453294</td>\n",
       "      <td>0.924412</td>\n",
       "      <td>0.729325</td>\n",
       "      <td>0.450104</td>\n",
       "      <td>...</td>\n",
       "      <td>0</td>\n",
       "      <td>0</td>\n",
       "      <td>1</td>\n",
       "      <td>0</td>\n",
       "      <td>0</td>\n",
       "      <td>1</td>\n",
       "      <td>0</td>\n",
       "      <td>0</td>\n",
       "      <td>1</td>\n",
       "      <td>0</td>\n",
       "    </tr>\n",
       "    <tr>\n",
       "      <th>2/1/2016 2:59:56 PM</th>\n",
       "      <td>0.923532</td>\n",
       "      <td>0.449652</td>\n",
       "      <td>0.000643</td>\n",
       "      <td>0.965415</td>\n",
       "      <td>0.167313</td>\n",
       "      <td>0.870030</td>\n",
       "      <td>0.453294</td>\n",
       "      <td>0.924412</td>\n",
       "      <td>0.729373</td>\n",
       "      <td>0.450104</td>\n",
       "      <td>...</td>\n",
       "      <td>0</td>\n",
       "      <td>0</td>\n",
       "      <td>1</td>\n",
       "      <td>0</td>\n",
       "      <td>0</td>\n",
       "      <td>1</td>\n",
       "      <td>0</td>\n",
       "      <td>0</td>\n",
       "      <td>1</td>\n",
       "      <td>0</td>\n",
       "    </tr>\n",
       "    <tr>\n",
       "      <th>2/1/2016 2:59:57 PM</th>\n",
       "      <td>0.917150</td>\n",
       "      <td>0.450026</td>\n",
       "      <td>0.000643</td>\n",
       "      <td>0.965415</td>\n",
       "      <td>0.167313</td>\n",
       "      <td>0.870257</td>\n",
       "      <td>0.451800</td>\n",
       "      <td>0.923981</td>\n",
       "      <td>0.728990</td>\n",
       "      <td>0.450104</td>\n",
       "      <td>...</td>\n",
       "      <td>0</td>\n",
       "      <td>0</td>\n",
       "      <td>1</td>\n",
       "      <td>0</td>\n",
       "      <td>0</td>\n",
       "      <td>1</td>\n",
       "      <td>0</td>\n",
       "      <td>0</td>\n",
       "      <td>1</td>\n",
       "      <td>0</td>\n",
       "    </tr>\n",
       "    <tr>\n",
       "      <th>2/1/2016 2:59:58 PM</th>\n",
       "      <td>0.913437</td>\n",
       "      <td>0.450079</td>\n",
       "      <td>0.000643</td>\n",
       "      <td>0.965415</td>\n",
       "      <td>0.167313</td>\n",
       "      <td>0.870257</td>\n",
       "      <td>0.451018</td>\n",
       "      <td>0.923981</td>\n",
       "      <td>0.728942</td>\n",
       "      <td>0.450104</td>\n",
       "      <td>...</td>\n",
       "      <td>0</td>\n",
       "      <td>0</td>\n",
       "      <td>1</td>\n",
       "      <td>0</td>\n",
       "      <td>0</td>\n",
       "      <td>1</td>\n",
       "      <td>0</td>\n",
       "      <td>0</td>\n",
       "      <td>1</td>\n",
       "      <td>0</td>\n",
       "    </tr>\n",
       "    <tr>\n",
       "      <th>2/1/2016 2:59:59 PM</th>\n",
       "      <td>0.906359</td>\n",
       "      <td>0.450613</td>\n",
       "      <td>0.000643</td>\n",
       "      <td>0.965415</td>\n",
       "      <td>0.167313</td>\n",
       "      <td>0.869577</td>\n",
       "      <td>0.450804</td>\n",
       "      <td>0.925167</td>\n",
       "      <td>0.729182</td>\n",
       "      <td>0.450104</td>\n",
       "      <td>...</td>\n",
       "      <td>0</td>\n",
       "      <td>0</td>\n",
       "      <td>1</td>\n",
       "      <td>0</td>\n",
       "      <td>0</td>\n",
       "      <td>1</td>\n",
       "      <td>0</td>\n",
       "      <td>0</td>\n",
       "      <td>1</td>\n",
       "      <td>0</td>\n",
       "    </tr>\n",
       "  </tbody>\n",
       "</table>\n",
       "<p>449919 rows × 103 columns</p>\n",
       "</div>"
      ],
      "text/plain": [
       "                          FIT101    LIT101    AIT201    AIT202    AIT203  \\\n",
       "Timestamp                                                                  \n",
       "28/12/2015 10:00:00 AM  0.879322  0.452962  0.942783  0.876785  0.436773   \n",
       "28/12/2015 10:00:01 AM  0.886285  0.453015  0.942783  0.876785  0.436773   \n",
       "28/12/2015 10:00:02 AM  0.901833  0.452962  0.942783  0.876081  0.436773   \n",
       "28/12/2015 10:00:03 AM  0.918195  0.453122  0.942783  0.876081  0.436773   \n",
       "28/12/2015 10:00:04 AM  0.930842  0.453816  0.942783  0.876081  0.436773   \n",
       "...                          ...       ...       ...       ...       ...   \n",
       "2/1/2016 2:59:55 PM     0.927477  0.448477  0.000643  0.965415  0.167313   \n",
       "2/1/2016 2:59:56 PM     0.923532  0.449652  0.000643  0.965415  0.167313   \n",
       "2/1/2016 2:59:57 PM     0.917150  0.450026  0.000643  0.965415  0.167313   \n",
       "2/1/2016 2:59:58 PM     0.913437  0.450079  0.000643  0.965415  0.167313   \n",
       "2/1/2016 2:59:59 PM     0.906359  0.450613  0.000643  0.965415  0.167313   \n",
       "\n",
       "                          FIT201   DPIT301    FIT301    LIT301    AIT401  ...  \\\n",
       "Timestamp                                                                 ...   \n",
       "28/12/2015 10:00:00 AM  0.865044  0.438853  0.928726  0.707350  0.500000  ...   \n",
       "28/12/2015 10:00:01 AM  0.865044  0.438853  0.929319  0.707350  0.500000  ...   \n",
       "28/12/2015 10:00:02 AM  0.863956  0.437572  0.929480  0.707733  0.500000  ...   \n",
       "28/12/2015 10:00:03 AM  0.863956  0.437572  0.929480  0.708116  0.500000  ...   \n",
       "28/12/2015 10:00:04 AM  0.864228  0.437572  0.929480  0.708451  0.500000  ...   \n",
       "...                          ...       ...       ...       ...       ...  ...   \n",
       "2/1/2016 2:59:55 PM     0.870030  0.453294  0.924412  0.729325  0.450104  ...   \n",
       "2/1/2016 2:59:56 PM     0.870030  0.453294  0.924412  0.729373  0.450104  ...   \n",
       "2/1/2016 2:59:57 PM     0.870257  0.451800  0.923981  0.728990  0.450104  ...   \n",
       "2/1/2016 2:59:58 PM     0.870257  0.451018  0.923981  0.728942  0.450104  ...   \n",
       "2/1/2016 2:59:59 PM     0.869577  0.450804  0.925167  0.729182  0.450104  ...   \n",
       "\n",
       "                        P502_2  P601_0  P601_1  P601_2  P602_0  P602_1  \\\n",
       "Timestamp                                                                \n",
       "28/12/2015 10:00:00 AM       0       0       1       0       0       1   \n",
       "28/12/2015 10:00:01 AM       0       0       1       0       0       1   \n",
       "28/12/2015 10:00:02 AM       0       0       1       0       0       1   \n",
       "28/12/2015 10:00:03 AM       0       0       1       0       0       1   \n",
       "28/12/2015 10:00:04 AM       0       0       1       0       0       1   \n",
       "...                        ...     ...     ...     ...     ...     ...   \n",
       "2/1/2016 2:59:55 PM          0       0       1       0       0       1   \n",
       "2/1/2016 2:59:56 PM          0       0       1       0       0       1   \n",
       "2/1/2016 2:59:57 PM          0       0       1       0       0       1   \n",
       "2/1/2016 2:59:58 PM          0       0       1       0       0       1   \n",
       "2/1/2016 2:59:59 PM          0       0       1       0       0       1   \n",
       "\n",
       "                        P602_2  P603_0  P603_1  P603_2  \n",
       "Timestamp                                               \n",
       "28/12/2015 10:00:00 AM       0       0       1       0  \n",
       "28/12/2015 10:00:01 AM       0       0       1       0  \n",
       "28/12/2015 10:00:02 AM       0       0       1       0  \n",
       "28/12/2015 10:00:03 AM       0       0       1       0  \n",
       "28/12/2015 10:00:04 AM       0       0       1       0  \n",
       "...                        ...     ...     ...     ...  \n",
       "2/1/2016 2:59:55 PM          0       0       1       0  \n",
       "2/1/2016 2:59:56 PM          0       0       1       0  \n",
       "2/1/2016 2:59:57 PM          0       0       1       0  \n",
       "2/1/2016 2:59:58 PM          0       0       1       0  \n",
       "2/1/2016 2:59:59 PM          0       0       1       0  \n",
       "\n",
       "[449919 rows x 103 columns]"
      ]
     },
     "execution_count": 19,
     "metadata": {},
     "output_type": "execute_result"
    }
   ],
   "source": [
    "mixed_data_without_label"
   ]
  },
  {
   "cell_type": "code",
   "execution_count": 20,
   "id": "62c1fa83-63f0-47e5-bf79-f87fe6ee7887",
   "metadata": {},
   "outputs": [],
   "source": [
    "# mixed_data_without_label.iloc[:-4]"
   ]
  },
  {
   "cell_type": "code",
   "execution_count": 21,
   "id": "5ab4e4b1-0e47-4683-a291-9c0d62357c8a",
   "metadata": {},
   "outputs": [],
   "source": [
    "#Function that takes the an the filepath and returns a list of 0 and 1 (normal / attacks)\n",
    "def labels (filepath):\n",
    "    df = pd.read_csv(filepath)\n",
    "    labels= df['Normal/Attack']\n",
    "    #now let us consider the a ttack and the attack the same (let us replace them by 1)\n",
    "    #and we will replace the normal with a zero\n",
    "    labels= labels.replace({'Normal': 0, 'Attack': 1, 'A ttack':1})\n",
    "    return labels "
   ]
  },
  {
   "cell_type": "code",
   "execution_count": 22,
   "id": "5822e21b-8b3e-41ee-9600-09e24c699a37",
   "metadata": {},
   "outputs": [
    {
     "name": "stderr",
     "output_type": "stream",
     "text": [
      "C:\\Users\\mfaki\\AppData\\Local\\Temp\\ipykernel_28368\\2199064294.py:7: FutureWarning: Downcasting behavior in `replace` is deprecated and will be removed in a future version. To retain the old behavior, explicitly call `result.infer_objects(copy=False)`. To opt-in to the future behavior, set `pd.set_option('future.no_silent_downcasting', True)`\n",
      "  labels= labels.replace({'Normal': 0, 'Attack': 1, 'A ttack':1})\n"
     ]
    }
   ],
   "source": [
    "labels= labels(mixed_data)"
   ]
  },
  {
   "cell_type": "code",
   "execution_count": 23,
   "id": "17158ae3-cc5e-49c8-9177-5377a44fab2a",
   "metadata": {},
   "outputs": [
    {
     "data": {
      "text/plain": [
       "0         0\n",
       "1         0\n",
       "2         0\n",
       "3         0\n",
       "4         0\n",
       "         ..\n",
       "449914    0\n",
       "449915    0\n",
       "449916    0\n",
       "449917    0\n",
       "449918    0\n",
       "Name: Normal/Attack, Length: 449919, dtype: int64"
      ]
     },
     "execution_count": 23,
     "metadata": {},
     "output_type": "execute_result"
    }
   ],
   "source": [
    "labels"
   ]
  },
  {
   "cell_type": "code",
   "execution_count": 24,
   "id": "ffb4a116-9f61-4d9a-9cbf-6ebc3e589f72",
   "metadata": {},
   "outputs": [
    {
     "data": {
      "text/plain": [
       "449919"
      ]
     },
     "execution_count": 24,
     "metadata": {},
     "output_type": "execute_result"
    }
   ],
   "source": [
    "len(labels)"
   ]
  },
  {
   "cell_type": "markdown",
   "id": "2e5749c3-a333-4751-8cc4-2af3ac9554f5",
   "metadata": {},
   "source": [
    "previous work  \n"
   ]
  },
  {
   "cell_type": "code",
   "execution_count": 25,
   "id": "be2d90e4-e3c7-4b58-81da-2543a5d6087e",
   "metadata": {},
   "outputs": [],
   "source": [
    "#let us now recreate the function that also splits the data\n",
    "def Create_data(data,labels,timestep):\n",
    "  data= data[:int(len(data)/timestep)*timestep]\n",
    "  labels= labels[:int(len(labels)/timestep)*timestep]\n",
    "  anomalies=[]\n",
    "  x=[]\n",
    "  _l = len(data)\n",
    "  for i in range (0, _l, timestep):\n",
    "    x.append(data[i:i+timestep])\n",
    "    if((labels.iloc[i:i+timestep]).sum()==0):\n",
    "      anomalies.append(0)\n",
    "    else:\n",
    "      anomalies.append(1)\n",
    "  p=np.array(x)\n",
    "  return _l, p,anomalies"
   ]
  },
  {
   "cell_type": "code",
   "execution_count": 26,
   "id": "25956b67-9e54-4f97-8144-e5eafbb4bc06",
   "metadata": {},
   "outputs": [],
   "source": [
    "l, x, anomalies= Create_data(mixed_data_without_label, labels, 10)"
   ]
  },
  {
   "cell_type": "code",
   "execution_count": 27,
   "id": "58416270-9831-47df-add5-bbebce641ba3",
   "metadata": {},
   "outputs": [
    {
     "data": {
      "text/plain": [
       "(44991, 10, 103)"
      ]
     },
     "execution_count": 27,
     "metadata": {},
     "output_type": "execute_result"
    }
   ],
   "source": [
    "x.shape"
   ]
  },
  {
   "cell_type": "markdown",
   "id": "38e006c9-5977-451c-bb66-cfba1d659acb",
   "metadata": {},
   "source": [
    "<h5>saving into pickle files</h5>"
   ]
  },
  {
   "cell_type": "code",
   "execution_count": 28,
   "id": "d8b8d53f-697d-4080-81da-914f384b585e",
   "metadata": {},
   "outputs": [
    {
     "data": {
      "text/plain": [
       "['x_mixed.pkl']"
      ]
     },
     "execution_count": 28,
     "metadata": {},
     "output_type": "execute_result"
    }
   ],
   "source": [
    "import joblib\n",
    "\n",
    "# Save the NumPy array using joblib\n",
    "#joblib.dump(x, 'x_mixed.pkl')"
   ]
  },
  {
   "cell_type": "code",
   "execution_count": 29,
   "id": "ceee39ef-1a1e-40f5-bc1e-39244e2a39d5",
   "metadata": {},
   "outputs": [
    {
     "data": {
      "text/plain": [
       "['anomalies_positions.pkl']"
      ]
     },
     "execution_count": 29,
     "metadata": {},
     "output_type": "execute_result"
    }
   ],
   "source": [
    "# Save the NumPy array using joblib\n",
    "#joblib.dump(anomalies, 'anomalies_positions.pkl')"
   ]
  },
  {
   "cell_type": "code",
   "execution_count": 35,
   "id": "6a256cf5-7db4-4294-bda4-d48dbaf7eaf8",
   "metadata": {},
   "outputs": [],
   "source": [
    "import joblib\n",
    "\n",
    "# Load the NumPy array from the file\n",
    "x = joblib.load('x_mixed.pkl')\n",
    "\n",
    "anomalies = joblib.load('anomalies_positions.pkl')"
   ]
  },
  {
   "cell_type": "code",
   "execution_count": 36,
   "id": "63351029-8b95-42fb-9927-d4dbb0defbf9",
   "metadata": {},
   "outputs": [
    {
     "name": "stdout",
     "output_type": "stream",
     "text": [
      "1406/1406 [==============================] - 11s 8ms/step\n"
     ]
    }
   ],
   "source": [
    "predicted_seq= model.predict(x)\n"
   ]
  },
  {
   "cell_type": "code",
   "execution_count": 37,
   "id": "6ff9f83c-7eff-45bd-980b-6503c31593ec",
   "metadata": {},
   "outputs": [],
   "source": [
    "# Calculate the mean absolute error for each prediction\n",
    "calculated_mse = np.mean((predicted_seq - x) ** 2, axis=(1,2))"
   ]
  },
  {
   "cell_type": "code",
   "execution_count": 47,
   "id": "c269ffee-0a79-4ed3-9f12-82afd81c368e",
   "metadata": {},
   "outputs": [],
   "source": [
    "# #free up sum space \n",
    "# predicted_seq=0\n",
    "# calculated_mse=0"
   ]
  },
  {
   "cell_type": "code",
   "execution_count": 38,
   "id": "110dd3dd-c5b1-45c2-b53c-4eda4d3b6aef",
   "metadata": {},
   "outputs": [
    {
     "name": "stdout",
     "output_type": "stream",
     "text": [
      "For threshold = 0.0\n",
      "tp: 5493, tn: 0, fp: 39498, fn: 0\n",
      "Precision = 0.1220910848836434\n",
      "Recall = 1.0\n",
      "F1-Score = 0.21761350130734491\n",
      "----------------------\n",
      "For threshold = 0.01\n",
      "tp: 5493, tn: 0, fp: 39498, fn: 0\n",
      "Precision = 0.1220910848836434\n",
      "Recall = 1.0\n",
      "F1-Score = 0.21761350130734491\n",
      "----------------------\n",
      "For threshold = 0.02\n",
      "tp: 4922, tn: 17984, fp: 21514, fn: 571\n",
      "Precision = 0.18618550461491906\n",
      "Recall = 0.8960495175678136\n",
      "F1-Score = 0.30830906072849135\n",
      "----------------------\n",
      "For threshold = 0.03\n",
      "tp: 4613, tn: 22798, fp: 16700, fn: 880\n",
      "Precision = 0.21644067001360673\n",
      "Recall = 0.8397961041325324\n",
      "F1-Score = 0.34417667686338876\n",
      "----------------------\n",
      "For threshold = 0.04\n",
      "tp: 4390, tn: 27936, fp: 11562, fn: 1103\n",
      "Precision = 0.2752006018054162\n",
      "Recall = 0.7991989805206626\n",
      "F1-Score = 0.40941944509209605\n",
      "----------------------\n",
      "For threshold = 0.05\n",
      "tp: 4156, tn: 33499, fp: 5999, fn: 1337\n",
      "Precision = 0.4092565238798621\n",
      "Recall = 0.7565993082104496\n",
      "F1-Score = 0.5311860940695295\n",
      "----------------------\n",
      "For threshold = 0.06\n",
      "tp: 3964, tn: 34805, fp: 4693, fn: 1529\n",
      "Precision = 0.4578953448076701\n",
      "Recall = 0.7216457309302748\n",
      "F1-Score = 0.5602826855123675\n",
      "----------------------\n",
      "For threshold = 0.07\n",
      "tp: 3712, tn: 36911, fp: 2587, fn: 1781\n",
      "Precision = 0.5892998888712494\n",
      "Recall = 0.6757691607500456\n",
      "F1-Score = 0.6295793758480326\n",
      "----------------------\n",
      "For threshold = 0.08\n",
      "tp: 3662, tn: 37591, fp: 1907, fn: 1831\n",
      "Precision = 0.6575686837852397\n",
      "Recall = 0.6666666666666666\n",
      "F1-Score = 0.6620864219851743\n",
      "----------------------\n",
      "For threshold = 0.09\n",
      "tp: 3394, tn: 38210, fp: 1288, fn: 2099\n",
      "Precision = 0.7249038872276805\n",
      "Recall = 0.617877298379756\n",
      "F1-Score = 0.6671253071253072\n",
      "----------------------\n",
      "For threshold = 0.1\n",
      "tp: 3293, tn: 38789, fp: 709, fn: 2200\n",
      "Precision = 0.8228385807096452\n",
      "Recall = 0.5994902603313308\n",
      "F1-Score = 0.6936282253817799\n",
      "----------------------\n",
      "For threshold = 0.11\n",
      "tp: 3252, tn: 39083, fp: 415, fn: 2241\n",
      "Precision = 0.8868284701390783\n",
      "Recall = 0.5920262151829602\n",
      "F1-Score = 0.7100436681222708\n",
      "----------------------\n",
      "For threshold = 0.12\n",
      "tp: 3239, tn: 39192, fp: 306, fn: 2254\n",
      "Precision = 0.9136812411847672\n",
      "Recall = 0.5896595667212816\n",
      "F1-Score = 0.716751493693295\n",
      "----------------------\n",
      "For threshold = 0.13\n",
      "tp: 3222, tn: 39372, fp: 126, fn: 2271\n",
      "Precision = 0.9623655913978495\n",
      "Recall = 0.5865647187329328\n",
      "F1-Score = 0.7288768238887005\n",
      "----------------------\n",
      "For threshold = 0.14\n",
      "tp: 3218, tn: 39450, fp: 48, fn: 2275\n",
      "Precision = 0.9853031230863442\n",
      "Recall = 0.5858365192062626\n",
      "F1-Score = 0.7347870761502455\n",
      "----------------------\n",
      "For threshold = 0.15\n",
      "tp: 3208, tn: 39474, fp: 24, fn: 2285\n",
      "Precision = 0.9925742574257426\n",
      "Recall = 0.5840160203895868\n",
      "F1-Score = 0.7353581661891118\n",
      "----------------------\n",
      "For threshold = 0.16\n",
      "tp: 3204, tn: 39489, fp: 9, fn: 2289\n",
      "Precision = 0.9971988795518207\n",
      "Recall = 0.5832878208629164\n",
      "F1-Score = 0.7360441075120606\n",
      "----------------------\n",
      "For threshold = 0.17\n",
      "tp: 3201, tn: 39490, fp: 8, fn: 2292\n",
      "Precision = 0.9975070115300717\n",
      "Recall = 0.5827416712179138\n",
      "F1-Score = 0.73569294415077\n",
      "----------------------\n",
      "For threshold = 0.18\n",
      "tp: 3197, tn: 39493, fp: 5, fn: 2296\n",
      "Precision = 0.9984384759525297\n",
      "Recall = 0.5820134716912434\n",
      "F1-Score = 0.735365152386429\n",
      "----------------------\n",
      "For threshold = 0.19\n",
      "tp: 3197, tn: 39494, fp: 4, fn: 2296\n",
      "Precision = 0.9987503905029679\n",
      "Recall = 0.5820134716912434\n",
      "F1-Score = 0.7354497354497355\n",
      "----------------------\n"
     ]
    }
   ],
   "source": [
    "thresholds = [x / 100.0 for x in range(0, 20)]\n",
    "for threshold in thresholds:\n",
    "    detected_anomalies = np.zeros(len(calculated_mse), dtype=int)\n",
    "    detected_anomalies[calculated_mse > threshold] = 1\n",
    "\n",
    "    # Calculate tp, tn, fp, fn\n",
    "    tp, tn, fp, fn = 0, 0, 0, 0\n",
    "    for i, j in zip(anomalies, detected_anomalies):\n",
    "        if i == j:\n",
    "            if i == 0:\n",
    "                tn += 1\n",
    "            else:\n",
    "                tp += 1\n",
    "        else:\n",
    "            if i == 0:\n",
    "                fp += 1\n",
    "            else:\n",
    "                fn += 1\n",
    "\n",
    "    # Calculate precision, recall, and F1-score with checks to avoid division by zero\n",
    "    precision = tp / (tp + fp) if (tp + fp) > 0 else 0\n",
    "    recall = tp / (tp + fn) if (tp + fn) > 0 else 0\n",
    "    f1_score = (2 * precision * recall) / (precision + recall) if (precision + recall) > 0 else 0\n",
    "\n",
    "    print(f'For threshold = {threshold}')\n",
    "    print(f'tp: {tp}, tn: {tn}, fp: {fp}, fn: {fn}')\n",
    "    print(f'Precision = {precision}')\n",
    "    print(f'Recall = {recall}')\n",
    "    print(f'F1-Score = {f1_score}')\n",
    "    print('----------------------')"
   ]
  },
  {
   "cell_type": "code",
   "execution_count": 40,
   "id": "a9459260-c70e-4e12-a4dc-ba36a412b600",
   "metadata": {},
   "outputs": [
    {
     "name": "stdout",
     "output_type": "stream",
     "text": [
      "for the threshold 0.156, the F1 score is 0.7361413979111673 and tp: 3207, tn: 39485, fp: 13, fn: 2286\n"
     ]
    }
   ],
   "source": [
    "#let us check the metrics values between 0.15 and 0.17 \n",
    "thresholds = [round(x, 3) for x in np.arange(0.15, 0.171, 0.001)]\n",
    "F1_score_max= -1 \n",
    "tpp, tnp, fpp, fnp=-1,-1,-1,-1\n",
    "threshold_opt = 1\n",
    "for threshold in thresholds:\n",
    "    detected_anomalies = np.zeros(len(calculated_mse), dtype=int)\n",
    "    detected_anomalies[calculated_mse > threshold] = 1\n",
    "\n",
    "    # Calculate tp, tn, fp, fn\n",
    "    tp, tn, fp, fn = 0, 0, 0, 0\n",
    "    for i, j in zip(anomalies, detected_anomalies):\n",
    "        if i == j:\n",
    "            if i == 0:\n",
    "                tn += 1\n",
    "            else:\n",
    "                tp += 1\n",
    "        else:\n",
    "            if i == 0:\n",
    "                fp += 1\n",
    "            else:\n",
    "                fn += 1\n",
    "\n",
    "    # Calculate precision, recall, and F1-score with checks to avoid division by zero\n",
    "    precision = tp / (tp + fp) if (tp + fp) > 0 else 0\n",
    "    recall = tp / (tp + fn) if (tp + fn) > 0 else 0\n",
    "    f1_score = (2 * precision * recall) / (precision + recall) if (precision + recall) > 0 else 0\n",
    "    if (f1_score>F1_score_max):\n",
    "        F1_score_max=f1_score\n",
    "        tpp, tnp, fpp, fnp = tp, tn, fp, fn\n",
    "        threshold_opt=threshold \n",
    "print(f'for the threshold {threshold_opt}, the F1 score is {F1_score_max} and tp: {tpp}, tn: {tnp}, fp: {fpp}, fn: {fnp}')"
   ]
  },
  {
   "cell_type": "code",
   "execution_count": null,
   "id": "8436bf3d-99b6-4781-829f-2a2469861cb5",
   "metadata": {},
   "outputs": [],
   "source": []
  },
  {
   "cell_type": "code",
   "execution_count": null,
   "id": "015398a9-86ba-4c68-8bbe-bbe70963e780",
   "metadata": {},
   "outputs": [],
   "source": []
  },
  {
   "cell_type": "markdown",
   "id": "144d4a81-0cc7-4be2-91ea-a55c305fbbee",
   "metadata": {},
   "source": [
    "<h1>Incremental learning Part </h1>"
   ]
  },
  {
   "cell_type": "code",
   "execution_count": 4,
   "id": "2eba3d32-09b7-452e-b0c7-8de6173e4026",
   "metadata": {},
   "outputs": [
    {
     "name": "stderr",
     "output_type": "stream",
     "text": [
      "C:\\Users\\mfaki\\AppData\\Local\\Temp\\ipykernel_3756\\4273617739.py:17: SettingWithCopyWarning: \n",
      "A value is trying to be set on a copy of a slice from a DataFrame.\n",
      "Try using .loc[row_indexer,col_indexer] = value instead\n",
      "\n",
      "See the caveats in the documentation: https://pandas.pydata.org/pandas-docs/stable/user_guide/indexing.html#returning-a-view-versus-a-copy\n",
      "  actuators_dummies[actuator]= pd.Categorical(actuators_dummies[actuator], categories=[0, 1, 2])\n"
     ]
    }
   ],
   "source": [
    "filepath = \"D://Msc_Data_Science_1//Semester 2//Data science lab 1//LSTM data//SWaT_Dataset_Normal_v0 2.csv\"\n",
    "scaler = MinMaxScaler()\n",
    "data = dataEngineering(filepath, scaler)"
   ]
  },
  {
   "cell_type": "code",
   "execution_count": 5,
   "id": "222288b3-21de-4b03-b83a-f5f85154b4cd",
   "metadata": {},
   "outputs": [],
   "source": [
    "def generate_datasets_for_training3(data, window_size):\n",
    "    _l = len(data)\n",
    "    Xs = []\n",
    "    # while (_l % window_size != 0):\n",
    "    #     _l -= 1\n",
    "    # data= data.iloc[:(len(data)-_l)]\n",
    "    for i in range(0, _l- window_size):\n",
    "        Xs.append(data[i:i+window_size].values) \n",
    "        # Convert list to numpy array\n",
    "    Xs = np.array(Xs)\n",
    "    \n",
    "    return (Xs.shape[2], Xs)"
   ]
  },
  {
   "cell_type": "code",
   "execution_count": 6,
   "id": "b3b9e697-f75e-466e-8d68-4fbff3c877d4",
   "metadata": {},
   "outputs": [],
   "source": [
    "feats, XX = generate_datasets_for_training3(data,10)"
   ]
  },
  {
   "cell_type": "code",
   "execution_count": 8,
   "id": "f0986225-be7d-4fc2-b343-09ab260dd8d4",
   "metadata": {},
   "outputs": [
    {
     "data": {
      "text/plain": [
       "(496790, 10, 103)"
      ]
     },
     "execution_count": 8,
     "metadata": {},
     "output_type": "execute_result"
    }
   ],
   "source": [
    "XX.shape"
   ]
  },
  {
   "cell_type": "code",
   "execution_count": 16,
   "id": "03c3a3a7-1ea6-47df-9cb2-e1f8b4bce57b",
   "metadata": {},
   "outputs": [],
   "source": [
    "#let us define the splits \n",
    "splits = np.array_split(XX,6)"
   ]
  },
  {
   "cell_type": "code",
   "execution_count": 17,
   "id": "b7d2ad2c-f611-4841-b2d7-a81f08bdb054",
   "metadata": {},
   "outputs": [
    {
     "data": {
      "text/plain": [
       "numpy.ndarray"
      ]
     },
     "execution_count": 17,
     "metadata": {},
     "output_type": "execute_result"
    }
   ],
   "source": [
    "type(splits[0])"
   ]
  },
  {
   "cell_type": "code",
   "execution_count": 19,
   "id": "c01fc698-4193-47e7-b94f-18b59f851bd0",
   "metadata": {},
   "outputs": [],
   "source": [
    "early_stop = tf.keras.callbacks.EarlyStopping(monitor='val_loss', min_delta=1e-2, patience=5, verbose=0, mode='auto', baseline=None, restore_best_weights=True)"
   ]
  },
  {
   "cell_type": "code",
   "execution_count": 20,
   "id": "3701a01f-0618-4dd3-9003-52ea368c0eb3",
   "metadata": {},
   "outputs": [
    {
     "name": "stdout",
     "output_type": "stream",
     "text": [
      "Epoch 1/100\n",
      "4140/4140 [==============================] - 181s 41ms/step - loss: 0.0292 - val_loss: 0.0506\n",
      "Epoch 2/100\n",
      "4140/4140 [==============================] - 174s 42ms/step - loss: 0.0302 - val_loss: 0.0496\n",
      "Epoch 3/100\n",
      "4140/4140 [==============================] - 168s 40ms/step - loss: 0.0298 - val_loss: 0.0495\n",
      "Epoch 4/100\n",
      "4140/4140 [==============================] - 168s 41ms/step - loss: 0.0297 - val_loss: 0.0537\n",
      "Epoch 5/100\n",
      "4140/4140 [==============================] - 168s 41ms/step - loss: 0.0205 - val_loss: 0.0257\n",
      "Epoch 6/100\n",
      "4140/4140 [==============================] - 169s 41ms/step - loss: 0.0145 - val_loss: 0.0204\n",
      "Epoch 7/100\n",
      "4140/4140 [==============================] - 175s 42ms/step - loss: 0.0133 - val_loss: 0.0196\n",
      "Epoch 8/100\n",
      "4140/4140 [==============================] - 171s 41ms/step - loss: 0.0119 - val_loss: 0.0197\n",
      "Epoch 9/100\n",
      "4140/4140 [==============================] - 173s 42ms/step - loss: 0.0132 - val_loss: 0.0198\n",
      "Epoch 10/100\n",
      "4140/4140 [==============================] - 172s 42ms/step - loss: 0.0121 - val_loss: 0.0194\n",
      "Epoch 1/100\n",
      "4140/4140 [==============================] - 176s 43ms/step - loss: 0.0099 - val_loss: 0.0164\n",
      "Epoch 2/100\n",
      "4140/4140 [==============================] - 175s 42ms/step - loss: 0.0088 - val_loss: 0.0087\n",
      "Epoch 3/100\n",
      "4140/4140 [==============================] - 188s 46ms/step - loss: 0.0075 - val_loss: 0.0060\n",
      "Epoch 4/100\n",
      "4140/4140 [==============================] - 181s 44ms/step - loss: 0.0040 - val_loss: 0.0039\n",
      "Epoch 5/100\n",
      "4140/4140 [==============================] - 183s 44ms/step - loss: 0.0028 - val_loss: 0.0026\n",
      "Epoch 6/100\n",
      "4140/4140 [==============================] - 180s 43ms/step - loss: 0.0051 - val_loss: 0.0072\n",
      "Epoch 7/100\n",
      "4140/4140 [==============================] - 186s 45ms/step - loss: 0.0062 - val_loss: 0.0146\n",
      "Epoch 8/100\n",
      "4140/4140 [==============================] - 193s 47ms/step - loss: 0.0044 - val_loss: 0.0035\n",
      "Epoch 1/100\n",
      "4140/4140 [==============================] - 193s 47ms/step - loss: 0.0050 - val_loss: 0.0078\n",
      "Epoch 2/100\n",
      "4140/4140 [==============================] - 187s 45ms/step - loss: 0.0116 - val_loss: 0.0063\n",
      "Epoch 3/100\n",
      "4140/4140 [==============================] - 209s 50ms/step - loss: 0.0032 - val_loss: 0.0129\n",
      "Epoch 4/100\n",
      "4140/4140 [==============================] - 194s 47ms/step - loss: 0.0056 - val_loss: 0.0035\n",
      "Epoch 5/100\n",
      "4140/4140 [==============================] - 200s 48ms/step - loss: 0.0031 - val_loss: 0.0018\n",
      "Epoch 6/100\n",
      "4140/4140 [==============================] - 189s 46ms/step - loss: 0.0021 - val_loss: 0.0018\n",
      "Epoch 1/100\n",
      "4140/4140 [==============================] - 197s 48ms/step - loss: 0.0054 - val_loss: 0.0023\n",
      "Epoch 2/100\n",
      "4140/4140 [==============================] - 190s 46ms/step - loss: 0.0024 - val_loss: 0.0117\n",
      "Epoch 3/100\n",
      "4140/4140 [==============================] - 194s 47ms/step - loss: 0.0040 - val_loss: 0.0062\n",
      "Epoch 4/100\n",
      "4140/4140 [==============================] - 194s 47ms/step - loss: 0.0031 - val_loss: 0.0063\n",
      "Epoch 5/100\n",
      "4140/4140 [==============================] - 192s 46ms/step - loss: 0.0058 - val_loss: 0.0059\n",
      "Epoch 6/100\n",
      "4140/4140 [==============================] - 194s 47ms/step - loss: 0.0054 - val_loss: 0.0055\n",
      "Epoch 1/100\n",
      "4140/4140 [==============================] - 186s 45ms/step - loss: 0.0041 - val_loss: 0.0024\n",
      "Epoch 2/100\n",
      "4140/4140 [==============================] - 191s 46ms/step - loss: 0.0063 - val_loss: 0.0023\n",
      "Epoch 3/100\n",
      "4140/4140 [==============================] - 192s 46ms/step - loss: 0.0036 - val_loss: 0.0024\n",
      "Epoch 4/100\n",
      "4140/4140 [==============================] - 187s 45ms/step - loss: 0.0036 - val_loss: 0.0022\n",
      "Epoch 5/100\n",
      "4140/4140 [==============================] - 194s 47ms/step - loss: 0.0036 - val_loss: 0.0021\n",
      "Epoch 6/100\n",
      "4140/4140 [==============================] - 203s 49ms/step - loss: 0.0031 - val_loss: 0.0020\n",
      "Epoch 1/100\n",
      "4140/4140 [==============================] - 211s 51ms/step - loss: 0.0048 - val_loss: 0.0070\n",
      "Epoch 2/100\n",
      "4140/4140 [==============================] - 199s 48ms/step - loss: 0.0057 - val_loss: 0.0023\n",
      "Epoch 3/100\n",
      "4140/4140 [==============================] - 197s 48ms/step - loss: 0.0032 - val_loss: 0.0022\n",
      "Epoch 4/100\n",
      "4140/4140 [==============================] - 195s 47ms/step - loss: 0.0061 - val_loss: 0.0058\n",
      "Epoch 5/100\n",
      "4140/4140 [==============================] - 193s 47ms/step - loss: 0.0061 - val_loss: 0.0021\n",
      "Epoch 6/100\n",
      "4140/4140 [==============================] - 199s 48ms/step - loss: 0.0024 - val_loss: 0.0019\n"
     ]
    }
   ],
   "source": [
    "train_losses = []\n",
    "val_losses = []\n",
    "for i, split in enumerate(splits):\n",
    "    history = model.fit(x=split, y=split, epochs=100, batch_size=16, shuffle=False, validation_split=0.2, callbacks=[early_stop])\n",
    "    model.save_weights(f'model_weights_after_split_{i}.h5')\n",
    "    # Store the losses for this split\n",
    "    train_losses.extend(history.history['loss'])\n",
    "    val_losses.extend(history.history['val_loss'])"
   ]
  },
  {
   "cell_type": "code",
   "execution_count": 21,
   "id": "baa84457-0ad6-4a43-9a96-6bfb5bcbf135",
   "metadata": {},
   "outputs": [
    {
     "data": {
      "image/png": "[encoded data removed]",
      "text/plain": [
       "<Figure size 1000x600 with 1 Axes>"
      ]
     },
     "metadata": {},
     "output_type": "display_data"
    }
   ],
   "source": [
    "plt.figure(figsize=(10, 6))\n",
    "plt.plot(train_losses, label='Train Loss')\n",
    "plt.plot(val_losses, label='Validation Loss')\n",
    "plt.xlabel('Epoch')\n",
    "plt.ylabel('Loss')\n",
    "plt.title('Train and Validation Loss Over Time')\n",
    "plt.legend()\n",
    "plt.show()"
   ]
  },
  {
   "cell_type": "code",
   "execution_count": 42,
   "id": "66f70981-e9ca-4595-a13b-379185afff05",
   "metadata": {},
   "outputs": [],
   "source": [
    "model.load_weights('model_weights_after_split_5.h5')"
   ]
  },
  {
   "cell_type": "code",
   "execution_count": 45,
   "id": "f1258c50-f4bd-4b45-b194-0ccbe7df4334",
   "metadata": {},
   "outputs": [],
   "source": [
    "#now let us find a threshold \n",
    "\n",
    "_predicts  = model.predict(tr_x, verbose=0)"
   ]
  },
  {
   "cell_type": "code",
   "execution_count": 48,
   "id": "5067b1be-544c-4df6-aeff-9d6ed9253935",
   "metadata": {},
   "outputs": [],
   "source": [
    "test_mse_loss = np.mean((_predicts -tr_x) ** 2, axis=(1,2))"
   ]
  },
  {
   "cell_type": "code",
   "execution_count": 49,
   "id": "71a7272c-be31-422b-a82d-791042d0e9b5",
   "metadata": {},
   "outputs": [
    {
     "data": {
      "image/png": "[encoded data removed]",
      "text/plain": [
       "<Figure size 1000x600 with 2 Axes>"
      ]
     },
     "metadata": {},
     "output_type": "display_data"
    }
   ],
   "source": [
    "# Plot the distribution of the reconstruction error\n",
    "plt.figure(figsize=(10, 6))\n",
    "\n",
    "# Histogram\n",
    "plt.subplot(2, 1, 1)\n",
    "plt.hist(test_mse_loss, bins=100, alpha=0.75, color='blue')\n",
    "plt.title('Histogram of Reconstruction Error')\n",
    "plt.xlabel('Reconstruction Error')\n",
    "plt.ylabel('Frequency')\n",
    "\n",
    "# KDE plot\n",
    "plt.subplot(2, 1, 2)\n",
    "sns.kdeplot(test_mse_loss, bw_adjust=0.5)\n",
    "plt.title('KDE of Reconstruction Error')\n",
    "plt.xlabel('Reconstruction Error')\n",
    "plt.ylabel('Density')\n",
    "\n",
    "plt.tight_layout()\n",
    "plt.show()"
   ]
  },
  {
   "cell_type": "code",
   "execution_count": 50,
   "id": "c47b3c67-c3d0-4de2-bf69-1aa609cb3afe",
   "metadata": {},
   "outputs": [
    {
     "name": "stdout",
     "output_type": "stream",
     "text": [
      "Maximum Error: 0.2451706477128896\n",
      "Mean is: 0.01580863369000318\n",
      "mean plus std 0.09274889319995885\n"
     ]
    }
   ],
   "source": [
    "max = np.max(test_mse_loss)\n",
    "mean = np.mean(test_mse_loss)\n",
    "std_dev = np.std(test_mse_loss)\n",
    "print(f'Maximum Error: {max}')\n",
    "print(f'Mean is: {mean}')\n",
    "print(f'mean plus std {mean + 3 * std_dev}')"
   ]
  },
  {
   "cell_type": "code",
   "execution_count": 51,
   "id": "c22bb071-3bf7-4453-84d4-b36d21f87a05",
   "metadata": {},
   "outputs": [
    {
     "name": "stdout",
     "output_type": "stream",
     "text": [
      "Q1 (25th percentile): 0.0012507011380163257\n",
      "Q2 (50th percentile / median): 0.0029045964126883646\n",
      "Q3 (75th percentile): 0.0282974601557989\n"
     ]
    }
   ],
   "source": [
    "# Calculate the quartiles\n",
    "Q1 = np.percentile(test_mse_loss, 25)\n",
    "Q2 = np.percentile(test_mse_loss, 50)  # This is also the median\n",
    "Q3 = np.percentile(test_mse_loss, 75)\n",
    "\n",
    "print(f\"Q1 (25th percentile): {Q1}\")\n",
    "print(f\"Q2 (50th percentile / median): {Q2}\")\n",
    "print(f\"Q3 (75th percentile): {Q3}\")"
   ]
  },
  {
   "cell_type": "code",
   "execution_count": 52,
   "id": "b3f61135-5d89-42ba-9058-6549dc728231",
   "metadata": {},
   "outputs": [
    {
     "name": "stdout",
     "output_type": "stream",
     "text": [
      "the possible threshold is: 0.06886759868247276\n"
     ]
    }
   ],
   "source": [
    "IQR= Q3-Q1\n",
    "possible_threshold = Q3 + 1.5 * IQR \n",
    "print(f'the possible threshold is: {possible_threshold}')"
   ]
  },
  {
   "cell_type": "code",
   "execution_count": 53,
   "id": "136a7312-85df-42cb-8314-fd5d1e3a9f04",
   "metadata": {},
   "outputs": [
    {
     "name": "stdout",
     "output_type": "stream",
     "text": [
      "0.03835019844933121\n"
     ]
    }
   ],
   "source": [
    "percentile_90 = np.percentile(test_mse_loss, 90)\n",
    "print(percentile_90)"
   ]
  },
  {
   "cell_type": "code",
   "execution_count": 54,
   "id": "5815f9d7-08ab-4ccb-b578-af9d43e74891",
   "metadata": {},
   "outputs": [],
   "source": [
    "############################"
   ]
  },
  {
   "cell_type": "code",
   "execution_count": null,
   "id": "375ef510-d428-4fa5-af3e-ded61f28cdda",
   "metadata": {},
   "outputs": [],
   "source": [
    "############################"
   ]
  },
  {
   "cell_type": "code",
   "execution_count": null,
   "id": "9c3f87ec-0150-4918-85b6-26081d4f1959",
   "metadata": {},
   "outputs": [],
   "source": []
  },
  {
   "cell_type": "markdown",
   "id": "74c7170c-7f02-4f65-aeb1-dad921264500",
   "metadata": {},
   "source": [
    "<h1>Now let us check the anomaly detection part</h1>"
   ]
  },
  {
   "cell_type": "code",
   "execution_count": 57,
   "id": "fb7ff540-1b76-4366-8cba-77893735249e",
   "metadata": {},
   "outputs": [],
   "source": [
    "import joblib\n",
    "\n",
    "# Load the NumPy array from the file\n",
    "x = joblib.load('x_mixed.pkl')\n",
    "\n",
    "anomalies = joblib.load('anomalies_positions.pkl')"
   ]
  },
  {
   "cell_type": "code",
   "execution_count": null,
   "id": "733f6d8a-cf98-4f01-ae3a-2a98e025e5ca",
   "metadata": {},
   "outputs": [],
   "source": []
  },
  {
   "cell_type": "code",
   "execution_count": 58,
   "id": "3517ef33-35c7-48eb-adf9-a4a3dbf2d9fc",
   "metadata": {},
   "outputs": [
    {
     "name": "stdout",
     "output_type": "stream",
     "text": [
      "1406/1406 [==============================] - 13s 9ms/step\n"
     ]
    }
   ],
   "source": [
    "predicted_seq= model.predict(x)"
   ]
  },
  {
   "cell_type": "code",
   "execution_count": 59,
   "id": "b418da1c-d418-47f7-816f-3d6fa689040b",
   "metadata": {},
   "outputs": [],
   "source": [
    "test_mse_loss = np.mean((predicted_seq -x) ** 2, axis=(1,2))"
   ]
  },
  {
   "cell_type": "code",
   "execution_count": 60,
   "id": "6c00d32c-3415-4e93-81f4-cf1e0726ab57",
   "metadata": {},
   "outputs": [
    {
     "name": "stdout",
     "output_type": "stream",
     "text": [
      "For threshold = 0.0\n",
      "tp: 5493, tn: 0, fp: 39498, fn: 0\n",
      "Precision = 0.1220910848836434\n",
      "Recall = 1.0\n",
      "F1-Score = 0.21761350130734491\n",
      "----------------------\n",
      "For threshold = 0.01\n",
      "tp: 5493, tn: 68, fp: 39430, fn: 0\n",
      "Precision = 0.1222758943080382\n",
      "Recall = 1.0\n",
      "F1-Score = 0.21790701364646145\n",
      "----------------------\n",
      "For threshold = 0.02\n",
      "tp: 4822, tn: 22336, fp: 17162, fn: 671\n",
      "Precision = 0.21934133915574963\n",
      "Recall = 0.8778445294010558\n",
      "F1-Score = 0.350984459729956\n",
      "----------------------\n",
      "For threshold = 0.03\n",
      "tp: 4568, tn: 23452, fp: 16046, fn: 925\n",
      "Precision = 0.22159697293101777\n",
      "Recall = 0.8316038594574914\n",
      "F1-Score = 0.3499444593404068\n",
      "----------------------\n",
      "For threshold = 0.04\n",
      "tp: 4267, tn: 26957, fp: 12541, fn: 1226\n",
      "Precision = 0.253867206092337\n",
      "Recall = 0.7768068450755508\n",
      "F1-Score = 0.3826734227164701\n",
      "----------------------\n",
      "For threshold = 0.05\n",
      "tp: 4082, tn: 32965, fp: 6533, fn: 1411\n",
      "Precision = 0.3845501648610457\n",
      "Recall = 0.743127616967049\n",
      "F1-Score = 0.5068289048919791\n",
      "----------------------\n",
      "For threshold = 0.06\n",
      "tp: 3849, tn: 34417, fp: 5081, fn: 1644\n",
      "Precision = 0.43101903695408733\n",
      "Recall = 0.7007099945385036\n",
      "F1-Score = 0.533730846564515\n",
      "----------------------\n",
      "For threshold = 0.07\n",
      "tp: 3544, tn: 36773, fp: 2725, fn: 1949\n",
      "Precision = 0.5653214228744616\n",
      "Recall = 0.6451847806298926\n",
      "F1-Score = 0.602618602278524\n",
      "----------------------\n",
      "For threshold = 0.08\n",
      "tp: 3491, tn: 37623, fp: 1875, fn: 2002\n",
      "Precision = 0.6505777115169586\n",
      "Recall = 0.635536136901511\n",
      "F1-Score = 0.6429689658347915\n",
      "----------------------\n",
      "For threshold = 0.09\n",
      "tp: 3379, tn: 37835, fp: 1663, fn: 2114\n",
      "Precision = 0.6701705672352242\n",
      "Recall = 0.6151465501547424\n",
      "F1-Score = 0.6414807783578547\n",
      "----------------------\n",
      "For threshold = 0.1\n",
      "tp: 3308, tn: 38096, fp: 1402, fn: 2185\n",
      "Precision = 0.7023354564755838\n",
      "Recall = 0.6022210085563444\n",
      "F1-Score = 0.6484367342938351\n",
      "----------------------\n",
      "For threshold = 0.11\n",
      "tp: 3270, tn: 38141, fp: 1357, fn: 2223\n",
      "Precision = 0.7067214177652907\n",
      "Recall = 0.5953031130529766\n",
      "F1-Score = 0.6462450592885376\n",
      "----------------------\n",
      "For threshold = 0.12\n",
      "tp: 3266, tn: 38212, fp: 1286, fn: 2227\n",
      "Precision = 0.7174868189806678\n",
      "Recall = 0.5945749135263062\n",
      "F1-Score = 0.6502737680438029\n",
      "----------------------\n",
      "For threshold = 0.13\n",
      "tp: 3257, tn: 38297, fp: 1201, fn: 2236\n",
      "Precision = 0.7305966801256168\n",
      "Recall = 0.592936464591298\n",
      "F1-Score = 0.6546075771279268\n",
      "----------------------\n",
      "For threshold = 0.14\n",
      "tp: 3254, tn: 38382, fp: 1116, fn: 2239\n",
      "Precision = 0.7446224256292906\n",
      "Recall = 0.5923903149462952\n",
      "F1-Score = 0.659839805333063\n",
      "----------------------\n",
      "For threshold = 0.15\n",
      "tp: 3254, tn: 38429, fp: 1069, fn: 2239\n",
      "Precision = 0.7527180198935924\n",
      "Recall = 0.5923903149462952\n",
      "F1-Score = 0.6629991850040751\n",
      "----------------------\n",
      "For threshold = 0.16\n",
      "tp: 3249, tn: 38476, fp: 1022, fn: 2244\n",
      "Precision = 0.7607117771013814\n",
      "Recall = 0.5914800655379574\n",
      "F1-Score = 0.6655059401884474\n",
      "----------------------\n",
      "For threshold = 0.17\n",
      "tp: 3246, tn: 38824, fp: 674, fn: 2247\n",
      "Precision = 0.8280612244897959\n",
      "Recall = 0.5909339158929546\n",
      "F1-Score = 0.6896844789121428\n",
      "----------------------\n",
      "For threshold = 0.18\n",
      "tp: 3208, tn: 39491, fp: 7, fn: 2285\n",
      "Precision = 0.9978227060653189\n",
      "Recall = 0.5840160203895868\n",
      "F1-Score = 0.7367937528709233\n",
      "----------------------\n",
      "For threshold = 0.19\n",
      "tp: 3102, tn: 39494, fp: 4, fn: 2391\n",
      "Precision = 0.9987121699935608\n",
      "Recall = 0.5647187329328236\n",
      "F1-Score = 0.721479241772299\n",
      "----------------------\n"
     ]
    }
   ],
   "source": [
    "thresholds = [x / 100.0 for x in range(0, 20)]\n",
    "for threshold in thresholds:\n",
    "    detected_anomalies = np.zeros(len(test_mse_loss), dtype=int)\n",
    "    detected_anomalies[test_mse_loss > threshold] = 1\n",
    "\n",
    "    # Calculate tp, tn, fp, fn\n",
    "    tp, tn, fp, fn = 0, 0, 0, 0\n",
    "    for i, j in zip(anomalies, detected_anomalies):\n",
    "        if i == j:\n",
    "            if i == 0:\n",
    "                tn += 1\n",
    "            else:\n",
    "                tp += 1\n",
    "        else:\n",
    "            if i == 0:\n",
    "                fp += 1\n",
    "            else:\n",
    "                fn += 1\n",
    "\n",
    "    # Calculate precision, recall, and F1-score with checks to avoid division by zero\n",
    "    precision = tp / (tp + fp) if (tp + fp) > 0 else 0\n",
    "    recall = tp / (tp + fn) if (tp + fn) > 0 else 0\n",
    "    f1_score = (2 * precision * recall) / (precision + recall) if (precision + recall) > 0 else 0\n",
    "\n",
    "    print(f'For threshold = {threshold}')\n",
    "    print(f'tp: {tp}, tn: {tn}, fp: {fp}, fn: {fn}')\n",
    "    print(f'Precision = {precision}')\n",
    "    print(f'Recall = {recall}')\n",
    "    print(f'F1-Score = {f1_score}')\n",
    "    print('----------------------')"
   ]
  },
  {
   "cell_type": "code",
   "execution_count": 63,
   "id": "32d92c3d-ee05-4893-b0b8-c76ea0e3f0b8",
   "metadata": {},
   "outputs": [
    {
     "name": "stdout",
     "output_type": "stream",
     "text": [
      "for the threshold 0.183, the F1 score is 0.737047673750718 and tp: 3208, tn: 39494, fp: 4, fn: 2285\n"
     ]
    }
   ],
   "source": [
    "#let us check the highest f1 score assuming it is between 0.17 and 0.19 \n",
    "#let us check the metrics values between 0.15 and 0.17 \n",
    "thresholds = [round(x, 3) for x in np.arange(0.17, 0.19, 0.001)]\n",
    "F1_score_max= -1 \n",
    "tpp, tnp, fpp, fnp=-1,-1,-1,-1\n",
    "threshold_opt = 1\n",
    "for threshold in thresholds:\n",
    "    detected_anomalies = np.zeros(len(test_mse_loss), dtype=int)\n",
    "    detected_anomalies[test_mse_loss > threshold] = 1\n",
    "\n",
    "    # Calculate tp, tn, fp, fn\n",
    "    tp, tn, fp, fn = 0, 0, 0, 0\n",
    "    for i, j in zip(anomalies, detected_anomalies):\n",
    "        if i == j:\n",
    "            if i == 0:\n",
    "                tn += 1\n",
    "            else:\n",
    "                tp += 1\n",
    "        else:\n",
    "            if i == 0:\n",
    "                fp += 1\n",
    "            else:\n",
    "                fn += 1\n",
    "\n",
    "    # Calculate precision, recall, and F1-score with checks to avoid division by zero\n",
    "    precision = tp / (tp + fp) if (tp + fp) > 0 else 0\n",
    "    recall = tp / (tp + fn) if (tp + fn) > 0 else 0\n",
    "    f1_score = (2 * precision * recall) / (precision + recall) if (precision + recall) > 0 else 0\n",
    "    if (f1_score>F1_score_max):\n",
    "        F1_score_max=f1_score\n",
    "        tpp, tnp, fpp, fnp = tp, tn, fp, fn\n",
    "        threshold_opt=threshold \n",
    "print(f'for the threshold {threshold_opt}, the F1 score is {F1_score_max} and tp: {tpp}, tn: {tnp}, fp: {fpp}, fn: {fnp}')"
   ]
  },
  {
   "cell_type": "code",
   "execution_count": null,
   "id": "d2c8eeed-e6e7-4eb1-9d16-ec52d84e0f35",
   "metadata": {},
   "outputs": [],
   "source": []
  }
 ],
 "metadata": {
  "kernelspec": {
   "display_name": "Python (tensorflow)",
   "language": "python",
   "name": "tensorflow"
  },
  "language_info": {
   "codemirror_mode": {
    "name": "ipython",
    "version": 3
   },
   "file_extension": ".py",
   "mimetype": "text/x-python",
   "name": "python",
   "nbconvert_exporter": "python",
   "pygments_lexer": "ipython3",
   "version": "3.9.19"
  }
 },
 "nbformat": 4,
 "nbformat_minor": 5
}
